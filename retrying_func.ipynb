{
 "cells": [
  {
   "cell_type": "code",
   "execution_count": 25,
   "metadata": {},
   "outputs": [],
   "source": [
    "import warnings\n",
    "from typing import Callable\n",
    "import time\n",
    "from functools import wraps\n",
    "from loguru import logger"
   ]
  },
  {
   "cell_type": "code",
   "execution_count": 26,
   "metadata": {},
   "outputs": [],
   "source": [
    "def IgnoreWarnings(func: Callable) -> Callable:\n",
    "    \"\"\"\n",
    "    Декоратор для игнорирования предупреждений RuntimeWarning и UserWarning\n",
    "\n",
    "    Args:\n",
    "        func (Callable): декорируемая функция\n",
    "\n",
    "    Returns:\n",
    "        Callable: декорируемая функция\n",
    "    \"\"\"\n",
    "\n",
    "    @wraps(func)\n",
    "    def Wrapper(*args, **kwargs):\n",
    "        with warnings.catch_warnings():\n",
    "            warnings.simplefilter(\"ignore\", RuntimeWarning)\n",
    "            warnings.simplefilter(\"ignore\", UserWarning)\n",
    "\n",
    "            return func(*args, **kwargs)\n",
    "\n",
    "    return Wrapper\n",
    "\n",
    "\n",
    "def Retry(attempts_amount=3, exception_to_check=Exception, sleep_time=1) -> Callable:\n",
    "    \"\"\"\n",
    "    Декоратор для повторения попыток выполнения функции\n",
    "\n",
    "    Args:\n",
    "        attempts_amount (int, optional): кол-во попыток. Defaults to 3.\n",
    "        exception_to_check (_type_, optional): улавливаемое исключение. Defaults to Exception.\n",
    "        sleep_time (int, optional): время ожидания между попытками. Defaults to 3.\n",
    "\n",
    "    Returns:\n",
    "        Callable: декорируемая функция\n",
    "    \"\"\"\n",
    "\n",
    "    def Decorate(func: Callable) -> Callable:\n",
    "        @wraps(func)\n",
    "        def Wrapper(*args, **kwargs):\n",
    "            for attempt in range(1, attempts_amount+1):\n",
    "                try:\n",
    "                    return func(*args, **kwargs)\n",
    "\n",
    "                except exception_to_check as exception:\n",
    "                    logger.warning(f\"{exception} | Attempt: {\n",
    "                                   attempt}\".ljust(77))\n",
    "                    if attempt < attempts_amount:\n",
    "                        time.sleep(sleep_time)\n",
    "\n",
    "            logger.error(\"All attempts failed\".ljust(77))\n",
    "            return None\n",
    "        return Wrapper\n",
    "    return Decorate\n"
   ]
  },
  {
   "cell_type": "code",
   "execution_count": 27,
   "metadata": {},
   "outputs": [
    {
     "name": "stderr",
     "output_type": "stream",
     "text": [
      "\u001b[32m2024-10-14 12:53:46.959\u001b[0m | \u001b[33m\u001b[1mWARNING \u001b[0m | \u001b[36m__main__\u001b[0m:\u001b[36mWrapper\u001b[0m:\u001b[36m44\u001b[0m - \u001b[33m\u001b[1mДеление на ноль! | Attempt: 1                                                \u001b[0m\n",
      "\u001b[32m2024-10-14 12:53:47.968\u001b[0m | \u001b[33m\u001b[1mWARNING \u001b[0m | \u001b[36m__main__\u001b[0m:\u001b[36mWrapper\u001b[0m:\u001b[36m44\u001b[0m - \u001b[33m\u001b[1mДеление на ноль! | Attempt: 2                                                \u001b[0m\n",
      "\u001b[32m2024-10-14 12:53:48.970\u001b[0m | \u001b[33m\u001b[1mWARNING \u001b[0m | \u001b[36m__main__\u001b[0m:\u001b[36mWrapper\u001b[0m:\u001b[36m44\u001b[0m - \u001b[33m\u001b[1mДеление на ноль! | Attempt: 3                                                \u001b[0m\n",
      "\u001b[32m2024-10-14 12:53:48.970\u001b[0m | \u001b[31m\u001b[1mERROR   \u001b[0m | \u001b[36m__main__\u001b[0m:\u001b[36mWrapper\u001b[0m:\u001b[36m49\u001b[0m - \u001b[31m\u001b[1mAll attempts failed                                                          \u001b[0m\n"
     ]
    },
    {
     "name": "stdout",
     "output_type": "stream",
     "text": [
      "None\n"
     ]
    }
   ],
   "source": [
    "@Retry()\n",
    "def my_function(x):\n",
    "    if x == 0:\n",
    "        raise ZeroDivisionError(\"Деление на ноль!\")\n",
    "    return x / 2\n",
    "\n",
    "result = my_function(0)\n",
    "print(result)"
   ]
  }
 ],
 "metadata": {
  "kernelspec": {
   "display_name": ".venv",
   "language": "python",
   "name": "python3"
  },
  "language_info": {
   "codemirror_mode": {
    "name": "ipython",
    "version": 3
   },
   "file_extension": ".py",
   "mimetype": "text/x-python",
   "name": "python",
   "nbconvert_exporter": "python",
   "pygments_lexer": "ipython3",
   "version": "3.12.6"
  }
 },
 "nbformat": 4,
 "nbformat_minor": 2
}
