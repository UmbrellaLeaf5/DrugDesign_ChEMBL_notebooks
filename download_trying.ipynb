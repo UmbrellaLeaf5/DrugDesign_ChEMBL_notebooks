{
 "cells": [
  {
   "cell_type": "code",
   "execution_count": 54,
   "metadata": {},
   "outputs": [],
   "source": [
    "from chembl_webresource_client.new_client import new_client\n",
    "import pandas as pd"
   ]
  },
  {
   "cell_type": "code",
   "execution_count": 61,
   "metadata": {},
   "outputs": [
    {
     "name": "stdout",
     "output_type": "stream",
     "text": [
      "<class 'int'>\n"
     ]
    }
   ],
   "source": [
    "molecules = new_client.molecule # type: ignore\n",
    "\n",
    "def QuerySet_mw_filter_range(less_limit: int, greater_limit: int):\n",
    "  \"\"\"\n",
    "  QuerySet_molecular_weight_filter_range - функция, которая выполняет фильтрацию по базе ChEMBL\n",
    "  по диапазону молекулярного веса (обе границы включительно)\n",
    "\n",
    "  Args:\n",
    "      less_limit (int): нижняя граница\n",
    "      greater_limit (int): верхняя граница\n",
    "\n",
    "  Returns:\n",
    "      chembl_webresource_client.query_set.QuerySet: список объектов заданной модели\n",
    "  \"\"\"\n",
    "  return new_client.molecule.filter(molecule_properties__mw_freebase__lte=greater_limit, molecule_properties__mw_freebase__gte=less_limit) # type: ignore\n"
   ]
  },
  {
   "cell_type": "code",
   "execution_count": 58,
   "metadata": {},
   "outputs": [
    {
     "data": {
      "text/plain": [
       "1042"
      ]
     },
     "execution_count": 58,
     "metadata": {},
     "output_type": "execute_result"
    }
   ],
   "source": [
    "under_100_mw_mols = QuerySet_filter_molecular_weight(0, 100)\n",
    "\n",
    "len(under_100_mw_mols)\n",
    "\n",
    "# data = pd.DataFrame(under_100_mw_mols)\n",
    "# data"
   ]
  },
  {
   "cell_type": "code",
   "execution_count": 20,
   "metadata": {},
   "outputs": [
    {
     "data": {
      "text/plain": [
       "43591"
      ]
     },
     "execution_count": 20,
     "metadata": {},
     "output_type": "execute_result"
    }
   ],
   "source": [
    "under_200_mw_mols = molecules.filter(molecule_properties__mw_freebase__lte=200, molecule_properties__mw_freebase__gte=100)\n",
    "\n",
    "len(under_200_mw_mols)"
   ]
  },
  {
   "cell_type": "code",
   "execution_count": 30,
   "metadata": {},
   "outputs": [
    {
     "data": {
      "text/plain": [
       "382494"
      ]
     },
     "execution_count": 30,
     "metadata": {},
     "output_type": "execute_result"
    }
   ],
   "source": [
    "under_300_mw_mols = molecules.filter(molecule_properties__mw_freebase__lte=300, molecule_properties__mw_freebase__gte=200)\n",
    "\n",
    "len(under_300_mw_mols)"
   ]
  },
  {
   "cell_type": "code",
   "execution_count": 29,
   "metadata": {},
   "outputs": [
    {
     "data": {
      "text/plain": [
       "862780"
      ]
     },
     "execution_count": 29,
     "metadata": {},
     "output_type": "execute_result"
    }
   ],
   "source": [
    "under_400_mw_mols = molecules.filter(molecule_properties__mw_freebase__lte=400, molecule_properties__mw_freebase__gte=300)\n",
    "\n",
    "len(under_400_mw_mols)"
   ]
  },
  {
   "cell_type": "code",
   "execution_count": 28,
   "metadata": {},
   "outputs": [
    {
     "data": {
      "text/plain": [
       "662709"
      ]
     },
     "execution_count": 28,
     "metadata": {},
     "output_type": "execute_result"
    }
   ],
   "source": [
    "under_500_mw_mols = molecules.filter(molecule_properties__mw_freebase__lte=500, molecule_properties__mw_freebase__gte=400)\n",
    "\n",
    "len(under_500_mw_mols)"
   ]
  },
  {
   "cell_type": "code",
   "execution_count": 27,
   "metadata": {},
   "outputs": [
    {
     "data": {
      "text/plain": [
       "256208"
      ]
     },
     "execution_count": 27,
     "metadata": {},
     "output_type": "execute_result"
    }
   ],
   "source": [
    "under_600_mw_mols = molecules.filter(molecule_properties__mw_freebase__lte=600, molecule_properties__mw_freebase__gte=500)\n",
    "\n",
    "len(under_600_mw_mols)"
   ]
  },
  {
   "cell_type": "code",
   "execution_count": 26,
   "metadata": {},
   "outputs": [
    {
     "data": {
      "text/plain": [
       "85072"
      ]
     },
     "execution_count": 26,
     "metadata": {},
     "output_type": "execute_result"
    }
   ],
   "source": [
    "under_700_mw_mols = molecules.filter(molecule_properties__mw_freebase__lte=700, molecule_properties__mw_freebase__gte=600)\n",
    "\n",
    "len(under_700_mw_mols)"
   ]
  },
  {
   "cell_type": "code",
   "execution_count": 25,
   "metadata": {},
   "outputs": [
    {
     "data": {
      "text/plain": [
       "36280"
      ]
     },
     "execution_count": 25,
     "metadata": {},
     "output_type": "execute_result"
    }
   ],
   "source": [
    "under_800_mw_mols = molecules.filter(molecule_properties__mw_freebase__lte=800, molecule_properties__mw_freebase__gte=700)\n",
    "\n",
    "len(under_800_mw_mols)"
   ]
  },
  {
   "cell_type": "code",
   "execution_count": 24,
   "metadata": {},
   "outputs": [
    {
     "data": {
      "text/plain": [
       "20907"
      ]
     },
     "execution_count": 24,
     "metadata": {},
     "output_type": "execute_result"
    }
   ],
   "source": [
    "under_900_mw_mols = molecules.filter(molecule_properties__mw_freebase__lte=900, molecule_properties__mw_freebase__gte=800)\n",
    "\n",
    "len(under_900_mw_mols)"
   ]
  },
  {
   "cell_type": "code",
   "execution_count": 32,
   "metadata": {},
   "outputs": [
    {
     "data": {
      "text/plain": [
       "12910"
      ]
     },
     "execution_count": 32,
     "metadata": {},
     "output_type": "execute_result"
    }
   ],
   "source": [
    "under_1000_mw_mols = molecules.filter(molecule_properties__mw_freebase__lte=1000, molecule_properties__mw_freebase__gte=900)\n",
    "\n",
    "len(under_1000_mw_mols)"
   ]
  },
  {
   "cell_type": "markdown",
   "metadata": {},
   "source": [
    "Above 1000 molecular weight"
   ]
  },
  {
   "cell_type": "code",
   "execution_count": 21,
   "metadata": {},
   "outputs": [
    {
     "data": {
      "text/plain": [
       "49007"
      ]
     },
     "execution_count": 21,
     "metadata": {},
     "output_type": "execute_result"
    }
   ],
   "source": [
    "above_1000_mw_mols = molecules.filter(molecule_properties__mw_freebase__gte=1000)\n",
    "\n",
    "len(above_1000_mw_mols)"
   ]
  }
 ],
 "metadata": {
  "kernelspec": {
   "display_name": ".venv",
   "language": "python",
   "name": "python3"
  },
  "language_info": {
   "codemirror_mode": {
    "name": "ipython",
    "version": 3
   },
   "file_extension": ".py",
   "mimetype": "text/x-python",
   "name": "python",
   "nbconvert_exporter": "python",
   "pygments_lexer": "ipython3",
   "version": "3.12.6"
  }
 },
 "nbformat": 4,
 "nbformat_minor": 2
}
