{
 "cells": [
  {
   "cell_type": "markdown",
   "metadata": {},
   "source": [
    "# ChEMBL webresource client examples\n",
    "\n",
    "The library helps to access ChEMBL data and cheminformatics tools from Python. You don't need to know how to write SQL. You don't need to know how to interact with REST APIs. You don't need to compile or install any cheminformatics frameworks. Results are cached.\n",
    "\n",
    "The client handles interaction with the HTTPS protocol and caches all results in the local file system for faster retrieval. Abstracting away all network-related tasks, the client provides the end user with a convenient interface, giving the impression of working with a local resource. The design is based on the Django QuerySet interface. The client also implements lazy evaluation of results, which means it will only evaluate a request for data when a value is required. This approach reduces the number of network requests and increases performance."
   ]
  },
  {
   "cell_type": "markdown",
   "metadata": {},
   "source": [
    "1. [Compounds](#section1)\n",
    "1. [Drugs](#section2)\n",
    "1. [Targets](#section3)\n",
    "1. [Activities](#section4)\n",
    "1. [Assays](#section5)\n",
    "1. [Tissues](#section6)\n",
    "1. [Cells](#section7)\n",
    "1. [Utils](#section8)"
   ]
  },
  {
   "cell_type": "markdown",
   "metadata": {},
   "source": [
    "## Available data entities\n",
    "\n",
    "You can list available data entities using the following code"
   ]
  },
  {
   "cell_type": "code",
   "execution_count": 1,
   "metadata": {},
   "outputs": [
    {
     "name": "stdout",
     "output_type": "stream",
     "text": [
      "['activity', 'activity_supplementary_data_by_activity', 'assay', 'assay_class', 'atc_class', 'binding_site', 'biotherapeutic', 'cell_line', 'chembl_id_lookup', 'chembl_release', 'compound_record', 'compound_structural_alert', 'description', 'document', 'document_similarity', 'drug', 'drug_indication', 'drug_warning', 'go_slim', 'image', 'mechanism', 'metabolism', 'molecule', 'molecule_form', 'official', 'organism', 'protein_classification', 'similarity', 'source', 'substructure', 'target', 'target_component', 'target_relation', 'tissue', 'xref_source']\n"
     ]
    }
   ],
   "source": [
    "from chembl_webresource_client.new_client import new_client\n",
    "\n",
    "available_resources = [resource for resource in dir(new_client) if not resource.startswith('_')]\n",
    "print(available_resources)"
   ]
  },
  {
   "cell_type": "markdown",
   "metadata": {},
   "source": [
    "## Available filters\n",
    "\n",
    "The design of the client is based on Django QuerySet (https://docs.djangoproject.com/en/1.11/ref/models/querysets, https://www.w3schools.com/django/django_queryset_filter.php, https://tutorial.djangogirls.org/ru/django_orm/) and most important lookup types are supported. These are:\n",
    "\n",
    "- exact\n",
    "- iexact\n",
    "- contains\n",
    "- icontains\n",
    "- in\n",
    "- gt\n",
    "- gte\n",
    "- lt\n",
    "- lte\n",
    "- startswith\n",
    "- istartswith\n",
    "- endswith\n",
    "- iendswith\n",
    "- range\n",
    "- isnull\n",
    "- regex\n",
    "- iregex"
   ]
  },
  {
   "cell_type": "markdown",
   "metadata": {},
   "source": [
    "## `Only` operator\n",
    "\n",
    "`only` is a special method that limits the results to a selected set of database fields. `only` takes a list of fields (as a single argument) to be included in the results. Note that the specified fields have to exist in the API endpoint against which `only` is executed. Using `only` normally makes an API call faster because less information returned will save bandwidth. The API logic will also check if any SQL joins are necessary to return the specified field(s) and will exclude unnecessary joins which critically improves performance.\n",
    "\n",
    "Please note that `only` has one limitation: any specified fields will ignore nested fields i.e. calling only(['molecule_properties__alogp']) is equivalent to only(['molecule_properties']).\n",
    "\n",
    "For many-to-many relationships `only` will not make any SQL join optimisation."
   ]
  },
  {
   "cell_type": "markdown",
   "metadata": {},
   "source": [
    "# 1. Compounds<a name=\"section1\"></a>\n",
    "- Compounds in ChEMBL usually have associated bioactivity data. For example, the activity of a compound may have been measured in an experiment against a particular target and results in a certain IC50 value that has been published in the scientific literature.\n",
    "\n",
    "- Compound records may be retrieved in a number of ways, such as a lookup of an individual compound using various identifiers or by searching for compounds via similarity."
   ]
  },
  {
   "cell_type": "markdown",
   "metadata": {},
   "source": [
    "## Find a compound by pref_name using the `molecule` endpoint\n",
    "- Note the double underscore to filter for a (case insensitive) `iexact` name match within the 'pref_name' database field"
   ]
  },
  {
   "cell_type": "code",
   "execution_count": 2,
   "metadata": {},
   "outputs": [
    {
     "data": {
      "text/plain": [
       "[{'atc_classifications': ['B01AC06', 'N02BA01', 'N02BA51', 'A01AD05', 'N02BA71'], 'availability_type': 2, 'biotherapeutic': None, 'black_box_warning': 0, 'chebi_par_id': 15365, 'chirality': 2, 'cross_references': [{'xref_id': 'aspirin', 'xref_name': 'aspirin', 'xref_src': 'DailyMed'}, {'xref_id': '144203627', 'xref_name': 'SID: 144203627', 'xref_src': 'PubChem'}, {'xref_id': '144209315', 'xref_name': 'SID: 144209315', 'xref_src': 'PubChem'}, {'xref_id': '144210466', 'xref_name': 'SID: 144210466', 'xref_src': 'PubChem'}, {'xref_id': '170465039', 'xref_name': 'SID: 170465039', 'xref_src': 'PubChem'}, {'xref_id': '17389202', 'xref_name': 'SID: 17389202', 'xref_src': 'PubChem'}, {'xref_id': '17390036', 'xref_name': 'SID: 17390036', 'xref_src': 'PubChem'}, {'xref_id': '174007205', 'xref_name': 'SID: 174007205', 'xref_src': 'PubChem'}, {'xref_id': '26747283', 'xref_name': 'SID: 26747283', 'xref_src': 'PubChem'}, {'xref_id': '26752858', 'xref_name': 'SID: 26752858', 'xref_src': 'PubChem'}, {'xref_id': '47193676', 'xref_name': 'SID: 47193676', 'xref_src': 'PubChem'}, {'xref_id': '50105490', 'xref_name': 'SID: 50105490', 'xref_src': 'PubChem'}, {'xref_id': '85230910', 'xref_name': 'SID: 85230910', 'xref_src': 'PubChem'}, {'xref_id': '87798', 'xref_name': 'SID: 87798', 'xref_src': 'PubChem'}, {'xref_id': '90340586', 'xref_name': 'SID: 90340586', 'xref_src': 'PubChem'}, {'xref_id': '14', 'xref_name': 'aspirin', 'xref_src': 'TG-GATEs'}, {'xref_id': 'Aspirin', 'xref_name': None, 'xref_src': 'Wikipedia'}], 'dosed_ingredient': True, 'first_approval': 1950, 'first_in_class': 0, 'helm_notation': None, 'indication_class': 'Analgesic; Antirheumatic; Antipyretic', 'inorganic_flag': 0, 'max_phase': 4, 'molecule_chembl_id': 'CHEMBL25', 'molecule_hierarchy': {'molecule_chembl_id': 'CHEMBL25', 'parent_chembl_id': 'CHEMBL25'}, 'molecule_properties': {'alogp': '1.31', 'aromatic_rings': 1, 'cx_logd': '-2.16', 'cx_logp': '1.24', 'cx_most_apka': '3.41', 'cx_most_bpka': None, 'full_molformula': 'C9H8O4', 'full_mwt': '180.16', 'hba': 3, 'hba_lipinski': 4, 'hbd': 1, 'hbd_lipinski': 1, 'heavy_atoms': 13, 'molecular_species': 'ACID', 'mw_freebase': '180.16', 'mw_monoisotopic': '180.0423', 'num_lipinski_ro5_violations': 0, 'num_ro5_violations': 0, 'psa': '63.60', 'qed_weighted': '0.55', 'ro3_pass': 'N', 'rtb': 2}, 'molecule_structures': {'canonical_smiles': 'CC(=O)Oc1ccccc1C(=O)O', 'molfile': '\\n     RDKit          2D\\n\\n 13 13  0  0  0  0  0  0  0  0999 V2000\\n    8.8810   -2.1206    0.0000 C   0  0  0  0  0  0  0  0  0  0  0  0\\n    8.8798   -2.9479    0.0000 C   0  0  0  0  0  0  0  0  0  0  0  0\\n    9.5946   -3.3607    0.0000 C   0  0  0  0  0  0  0  0  0  0  0  0\\n   10.3110   -2.9474    0.0000 C   0  0  0  0  0  0  0  0  0  0  0  0\\n   10.3081   -2.1170    0.0000 C   0  0  0  0  0  0  0  0  0  0  0  0\\n    9.5928   -1.7078    0.0000 C   0  0  0  0  0  0  0  0  0  0  0  0\\n   11.0210   -1.7018    0.0000 C   0  0  0  0  0  0  0  0  0  0  0  0\\n   11.7369   -2.1116    0.0000 O   0  0  0  0  0  0  0  0  0  0  0  0\\n   11.0260   -3.3588    0.0000 O   0  0  0  0  0  0  0  0  0  0  0  0\\n   11.0273   -4.1837    0.0000 C   0  0  0  0  0  0  0  0  0  0  0  0\\n   11.7423   -4.5949    0.0000 C   0  0  0  0  0  0  0  0  0  0  0  0\\n   10.3136   -4.5972    0.0000 O   0  0  0  0  0  0  0  0  0  0  0  0\\n   11.0178   -0.8769    0.0000 O   0  0  0  0  0  0  0  0  0  0  0  0\\n  1  2  2  0\\n  5  7  1  0\\n  3  4  2  0\\n  7  8  2  0\\n  4  9  1  0\\n  4  5  1  0\\n  9 10  1  0\\n  2  3  1  0\\n 10 11  1  0\\n  5  6  2  0\\n 10 12  2  0\\n  6  1  1  0\\n  7 13  1  0\\nM  END\\n\\n> <chembl_id>\\nCHEMBL25\\n\\n> <chembl_pref_name>\\nASPIRIN\\n\\n', 'standard_inchi': 'InChI=1S/C9H8O4/c1-6(10)13-8-5-3-2-4-7(8)9(11)12/h2-5H,1H3,(H,11,12)', 'standard_inchi_key': 'BSYNRYMUTXBXSQ-UHFFFAOYSA-N'}, 'molecule_synonyms': [{'molecule_synonym': '8-hour bayer', 'syn_type': 'TRADE_NAME', 'synonyms': '8-HOUR BAYER'}, {'molecule_synonym': 'Acetosalic Acid', 'syn_type': 'TRADE_NAME', 'synonyms': 'Acetosalic Acid'}, {'molecule_synonym': 'Acetylsalic acid', 'syn_type': 'TRADE_NAME', 'synonyms': 'ACETYLSALIC ACID'}, {'molecule_synonym': 'Acetylsalicylic Acid', 'syn_type': 'INN', 'synonyms': 'Acetylsalicylic Acid'}, {'molecule_synonym': 'Acetylsalicylic Acid', 'syn_type': 'TRADE_NAME', 'synonyms': 'Acetylsalicylic Acid'}, {'molecule_synonym': 'Acetylsalicylic acid', 'syn_type': 'ATC', 'synonyms': 'ACETYLSALICYLIC ACID'}, {'molecule_synonym': 'Acetylsalicylic acid', 'syn_type': 'OTHER', 'synonyms': 'ACETYLSALICYLIC ACID'}, {'molecule_synonym': 'Alka rapid', 'syn_type': 'TRADE_NAME', 'synonyms': 'ALKA RAPID'}, {'molecule_synonym': 'Anadin all night', 'syn_type': 'TRADE_NAME', 'synonyms': 'ANADIN ALL NIGHT'}, {'molecule_synonym': 'Angettes 75', 'syn_type': 'TRADE_NAME', 'synonyms': 'ANGETTES 75'}, {'molecule_synonym': 'Aspirin', 'syn_type': 'USAN', 'synonyms': 'Aspirin'}, {'molecule_synonym': 'Aspirin', 'syn_type': 'BAN', 'synonyms': 'ASPIRIN'}, {'molecule_synonym': 'Aspirin', 'syn_type': 'BNF', 'synonyms': 'ASPIRIN'}, {'molecule_synonym': 'Aspirin', 'syn_type': 'FDA', 'synonyms': 'ASPIRIN'}, {'molecule_synonym': 'Aspirin', 'syn_type': 'JAN', 'synonyms': 'ASPIRIN'}, {'molecule_synonym': 'Aspirin', 'syn_type': 'MERCK_INDEX', 'synonyms': 'ASPIRIN'}, {'molecule_synonym': 'Aspirin', 'syn_type': 'OTHER', 'synonyms': 'ASPIRIN'}, {'molecule_synonym': 'Aspirin', 'syn_type': 'TRADE_NAME', 'synonyms': 'ASPIRIN'}, {'molecule_synonym': 'Aspirin', 'syn_type': 'USP', 'synonyms': 'ASPIRIN'}, {'molecule_synonym': 'Aspro clr', 'syn_type': 'TRADE_NAME', 'synonyms': 'ASPRO CLR'}, {'molecule_synonym': 'BAY1019036', 'syn_type': 'RESEARCH_CODE', 'synonyms': 'BAY1019036'}, {'molecule_synonym': 'Bayer extra strength aspirin for migraine pain', 'syn_type': 'TRADE_NAME', 'synonyms': 'BAYER EXTRA STRENGTH ASPIRIN FOR MIGRAINE PAIN'}, {'molecule_synonym': 'Danamep', 'syn_type': 'TRADE_NAME', 'synonyms': 'DANAMEP'}, {'molecule_synonym': 'Disprin cv', 'syn_type': 'TRADE_NAME', 'synonyms': 'DISPRIN CV'}, {'molecule_synonym': 'Disprin direct', 'syn_type': 'TRADE_NAME', 'synonyms': 'DISPRIN DIRECT'}, {'molecule_synonym': 'Durlaza', 'syn_type': 'TRADE_NAME', 'synonyms': 'DURLAZA'}, {'molecule_synonym': 'Ecotrin', 'syn_type': 'TRADE_NAME', 'synonyms': 'Ecotrin'}, {'molecule_synonym': 'Enprin', 'syn_type': 'TRADE_NAME', 'synonyms': 'ENPRIN'}, {'molecule_synonym': 'Equi-Prin', 'syn_type': 'TRADE_NAME', 'synonyms': 'Equi-Prin'}, {'molecule_synonym': 'Gencardia', 'syn_type': 'TRADE_NAME', 'synonyms': 'GENCARDIA'}, {'molecule_synonym': 'Levius', 'syn_type': 'TRADE_NAME', 'synonyms': 'LEVIUS'}, {'molecule_synonym': 'Max strgh aspro clr', 'syn_type': 'TRADE_NAME', 'synonyms': 'MAX STRGH ASPRO CLR'}, {'molecule_synonym': 'Measurin', 'syn_type': 'TRADE_NAME', 'synonyms': 'MEASURIN'}, {'molecule_synonym': 'Micropirin ec', 'syn_type': 'TRADE_NAME', 'synonyms': 'MICROPIRIN EC'}, {'molecule_synonym': 'NSC-27223', 'syn_type': 'RESEARCH_CODE', 'synonyms': 'NSC-27223'}, {'molecule_synonym': 'NSC-406186', 'syn_type': 'RESEARCH_CODE', 'synonyms': 'NSC-406186'}, {'molecule_synonym': 'Nu-seals 300', 'syn_type': 'TRADE_NAME', 'synonyms': 'NU-SEALS 300'}, {'molecule_synonym': 'Nu-seals 600', 'syn_type': 'TRADE_NAME', 'synonyms': 'NU-SEALS 600'}, {'molecule_synonym': 'Nu-seals 75', 'syn_type': 'TRADE_NAME', 'synonyms': 'NU-SEALS 75'}, {'molecule_synonym': 'Nu-seals cardio 75', 'syn_type': 'TRADE_NAME', 'synonyms': 'NU-SEALS CARDIO 75'}, {'molecule_synonym': 'Paynocil', 'syn_type': 'TRADE_NAME', 'synonyms': 'PAYNOCIL'}, {'molecule_synonym': 'Platet', 'syn_type': 'TRADE_NAME', 'synonyms': 'PLATET'}, {'molecule_synonym': 'Platet 300', 'syn_type': 'TRADE_NAME', 'synonyms': 'PLATET 300'}, {'molecule_synonym': 'Postmi 300', 'syn_type': 'TRADE_NAME', 'synonyms': 'POSTMI 300'}, {'molecule_synonym': 'Postmi 75', 'syn_type': 'TRADE_NAME', 'synonyms': 'POSTMI 75'}, {'molecule_synonym': 'Salicylic Acid Acetate', 'syn_type': 'TRADE_NAME', 'synonyms': 'Salicylic Acid Acetate'}, {'molecule_synonym': 'Vazalore', 'syn_type': 'TRADE_NAME', 'synonyms': 'VAZALORE'}], 'molecule_type': 'Small molecule', 'natural_product': 0, 'oral': True, 'parenteral': False, 'polymer_flag': False, 'pref_name': 'ASPIRIN', 'prodrug': 0, 'structure_type': 'MOL', 'therapeutic_flag': True, 'topical': False, 'usan_stem': None, 'usan_stem_definition': None, 'usan_substem': None, 'usan_year': None, 'withdrawn_class': None, 'withdrawn_country': None, 'withdrawn_flag': False, 'withdrawn_reason': None, 'withdrawn_year': None}]"
      ]
     },
     "execution_count": 2,
     "metadata": {},
     "output_type": "execute_result"
    }
   ],
   "source": [
    "from chembl_webresource_client.new_client import new_client #Import ChEMBL python client\n",
    "\n",
    "molecule = new_client.molecule\n",
    "mols = molecule.filter(pref_name__iexact='aspirin')\n",
    "mols"
   ]
  },
  {
   "cell_type": "markdown",
   "metadata": {},
   "source": [
    "## Find a compound by its synonyms\n",
    "\n",
    "- In some cases a compound may be more commonly known by a synonym than its preferred name in ChEMBL (pref_name)\n",
    "- The 'molecule_synonym' field is nested within the 'molecule_synonyms' field hence the first double underscore, followed by a second double underscore to filter for a (case insensitive) iexact name match within the 'pref_name' database field\n",
    "- Use the `only` method to specify which database fields you want to be included in response"
   ]
  },
  {
   "cell_type": "code",
   "execution_count": 3,
   "metadata": {},
   "outputs": [
    {
     "data": {
      "text/plain": [
       "[{'molecule_chembl_id': 'CHEMBL192'}, {'molecule_chembl_id': 'CHEMBL1737'}]"
      ]
     },
     "execution_count": 3,
     "metadata": {},
     "output_type": "execute_result"
    }
   ],
   "source": [
    "from chembl_webresource_client.new_client import new_client\n",
    "\n",
    "molecule = new_client.molecule\n",
    "mols = molecule.filter(molecule_synonyms__molecule_synonym__iexact='viagra').only('molecule_chembl_id')\n",
    "mols"
   ]
  },
  {
   "cell_type": "markdown",
   "metadata": {},
   "source": [
    "## Get a single compound by ChEMBL id\n",
    "\n",
    "- All the main entities in the ChEMBL database have a ChEMBL ID. This is a stable identifier designed for straightforward lookup of data."
   ]
  },
  {
   "cell_type": "code",
   "execution_count": 4,
   "metadata": {},
   "outputs": [
    {
     "data": {
      "text/plain": [
       "[{'molecule_chembl_id': 'CHEMBL192', 'molecule_structures': {'canonical_smiles': 'CCCc1nn(C)c2c(=O)[nH]c(-c3cc(S(=O)(=O)N4CCN(C)CC4)ccc3OCC)nc12', 'molfile': '\\n     RDKit          2D\\n\\n 33 36  0  0  0  0  0  0  0  0999 V2000\\n    2.1000   -0.0042    0.0000 C   0  0  0  0  0  0  0  0  0  0  0  0\\n    2.1000    0.7000    0.0000 C   0  0  0  0  0  0  0  0  0  0  0  0\\n   -1.5375   -0.0042    0.0000 S   0  0  0  0  0  0  0  0  0  0  0  0\\n    1.4917   -0.3667    0.0000 N   0  0  0  0  0  0  0  0  0  0  0  0\\n    0.8792   -0.0042    0.0000 C   0  0  0  0  0  0  0  0  0  0  0  0\\n    2.8042    0.9083    0.0000 N   0  0  0  0  0  0  0  0  0  0  0  0\\n    1.4917    1.0625    0.0000 C   0  0  0  0  0  0  0  0  0  0  0  0\\n    0.8792    0.6833    0.0000 N   0  0  0  0  0  0  0  0  0  0  0  0\\n    3.2042    0.3458    0.0000 N   0  0  0  0  0  0  0  0  0  0  0  0\\n    2.8042   -0.2417    0.0000 C   0  0  0  0  0  0  0  0  0  0  0  0\\n    0.2875   -0.3750    0.0000 C   0  0  0  0  0  0  0  0  0  0  0  0\\n   -2.1583   -0.3750    0.0000 N   0  0  0  0  0  0  0  0  0  0  0  0\\n   -0.9333   -0.3750    0.0000 C   0  0  0  0  0  0  0  0  0  0  0  0\\n   -0.3208   -0.0333    0.0000 C   0  0  0  0  0  0  0  0  0  0  0  0\\n   -1.1875    0.6083    0.0000 O   0  0  0  0  0  0  0  0  0  0  0  0\\n   -1.8958    0.6083    0.0000 O   0  0  0  0  0  0  0  0  0  0  0  0\\n   -3.3958   -1.0917    0.0000 N   0  0  0  0  0  0  0  0  0  0  0  0\\n   -2.7833   -0.0042    0.0000 C   0  0  0  0  0  0  0  0  0  0  0  0\\n   -2.1583   -1.0917    0.0000 C   0  0  0  0  0  0  0  0  0  0  0  0\\n    0.2875   -1.1125    0.0000 C   0  0  0  0  0  0  0  0  0  0  0  0\\n    1.4917    1.7708    0.0000 O   0  0  0  0  0  0  0  0  0  0  0  0\\n   -0.9333   -1.1125    0.0000 C   0  0  0  0  0  0  0  0  0  0  0  0\\n   -0.3208   -1.4542    0.0000 C   0  0  0  0  0  0  0  0  0  0  0  0\\n   -3.3958   -0.3750    0.0000 C   0  0  0  0  0  0  0  0  0  0  0  0\\n   -2.7833   -1.4417    0.0000 C   0  0  0  0  0  0  0  0  0  0  0  0\\n    3.0750    1.5750    0.0000 C   0  0  0  0  0  0  0  0  0  0  0  0\\n    2.8042   -0.9500    0.0000 C   0  0  0  0  0  0  0  0  0  0  0  0\\n    0.8792   -1.4542    0.0000 O   0  0  0  0  0  0  0  0  0  0  0  0\\n   -3.9958   -1.4292    0.0000 C   0  0  0  0  0  0  0  0  0  0  0  0\\n    1.4958   -1.1000    0.0000 C   0  0  0  0  0  0  0  0  0  0  0  0\\n    3.4167   -1.3125    0.0000 C   0  0  0  0  0  0  0  0  0  0  0  0\\n    2.1125   -1.4500    0.0000 C   0  0  0  0  0  0  0  0  0  0  0  0\\n    4.0375   -0.9542    0.0000 C   0  0  0  0  0  0  0  0  0  0  0  0\\n  2  1  2  0\\n  3 13  1  0\\n  4  1  1  0\\n  5  4  2  0\\n  6  2  1  0\\n  7  2  1  0\\n  8  5  1  0\\n  9 10  2  0\\n 10  1  1  0\\n 11  5  1  0\\n 12  3  1  0\\n 13 14  2  0\\n 14 11  1  0\\n 15  3  2  0\\n 16  3  2  0\\n 17 25  1  0\\n 18 12  1  0\\n 19 12  1  0\\n 20 11  2  0\\n 21  7  2  0\\n 22 23  2  0\\n 23 20  1  0\\n 24 18  1  0\\n 25 19  1  0\\n 26  6  1  0\\n 27 10  1  0\\n 28 20  1  0\\n 29 17  1  0\\n 30 28  1  0\\n 31 27  1  0\\n 32 30  1  0\\n 33 31  1  0\\n  9  6  1  0\\n  8  7  1  0\\n 22 13  1  0\\n 17 24  1  0\\nM  END\\n\\n> <chembl_id>\\nCHEMBL192\\n\\n> <chembl_pref_name>\\nSILDENAFIL\\n\\n', 'standard_inchi': 'InChI=1S/C22H30N6O4S/c1-5-7-17-19-20(27(4)25-17)22(29)24-21(23-19)16-14-15(8-9-18(16)32-6-2)33(30,31)28-12-10-26(3)11-13-28/h8-9,14H,5-7,10-13H2,1-4H3,(H,23,24,29)', 'standard_inchi_key': 'BNRNXUUZRGQAQC-UHFFFAOYSA-N'}, 'pref_name': 'SILDENAFIL'}]"
      ]
     },
     "execution_count": 4,
     "metadata": {},
     "output_type": "execute_result"
    }
   ],
   "source": [
    "from chembl_webresource_client.new_client import new_client\n",
    "\n",
    "molecule = new_client.molecule\n",
    "m1 = molecule.filter(chembl_id='CHEMBL192').only(['molecule_chembl_id', 'pref_name', 'molecule_structures'])\n",
    "m1"
   ]
  },
  {
   "cell_type": "markdown",
   "metadata": {},
   "source": [
    "## Get many compounds using a list of their identifiers (ChEMBL_id)\n",
    "- Use the double underscore followed by the `in` keyword to find a list of molecule_chembl_id's"
   ]
  },
  {
   "cell_type": "code",
   "execution_count": 5,
   "metadata": {},
   "outputs": [
    {
     "data": {
      "text/plain": [
       "[{'molecule_chembl_id': 'CHEMBL25', 'pref_name': 'ASPIRIN'}, {'molecule_chembl_id': 'CHEMBL27', 'pref_name': 'PROPRANOLOL'}, {'molecule_chembl_id': 'CHEMBL192', 'pref_name': 'SILDENAFIL'}]"
      ]
     },
     "execution_count": 5,
     "metadata": {},
     "output_type": "execute_result"
    }
   ],
   "source": [
    "from chembl_webresource_client.new_client import new_client\n",
    "\n",
    "molecule = new_client.molecule\n",
    "mols = molecule.filter(molecule_chembl_id__in=['CHEMBL25', 'CHEMBL192', 'CHEMBL27']).only(['molecule_chembl_id', 'pref_name'])\n",
    "mols"
   ]
  },
  {
   "cell_type": "markdown",
   "metadata": {},
   "source": [
    "## Display a compound image using the `image` endpoint"
   ]
  },
  {
   "cell_type": "code",
   "execution_count": 6,
   "metadata": {},
   "outputs": [
    {
     "data": {
      "image/svg+xml": [
       "<svg baseProfile=\"full\" height=\"500px\" version=\"1.1\" viewBox=\"0 0 500 500\" width=\"500px\" xml:space=\"preserve\" xmlns=\"http://www.w3.org/2000/svg\" xmlns:rdkit=\"http://www.rdkit.org/xml\" xmlns:xlink=\"http://www.w3.org/1999/xlink\">\n",
       "<!-- END OF HEADER -->\n",
       "<path class=\"bond-0\" d=\"M 61.3426,174.682 L 61.196,275.762\" style=\"fill:none;fill-rule:evenodd;stroke:#000000;stroke-width:2px;stroke-linecap:butt;stroke-linejoin:miter;stroke-opacity:1\"/>\n",
       "<path class=\"bond-0\" d=\"M 83.3129,189.876 L 83.2103,260.632\" style=\"fill:none;fill-rule:evenodd;stroke:#000000;stroke-width:2px;stroke-linecap:butt;stroke-linejoin:miter;stroke-opacity:1\"/>\n",
       "<path class=\"bond-11\" d=\"M 61.3426,174.682 L 148.31,124.246\" style=\"fill:none;fill-rule:evenodd;stroke:#000000;stroke-width:2px;stroke-linecap:butt;stroke-linejoin:miter;stroke-opacity:1\"/>\n",
       "<path class=\"bond-7\" d=\"M 61.196,275.762 L 148.53,326.197\" style=\"fill:none;fill-rule:evenodd;stroke:#000000;stroke-width:2px;stroke-linecap:butt;stroke-linejoin:miter;stroke-opacity:1\"/>\n",
       "<path class=\"bond-2\" d=\"M 148.53,326.197 L 236.06,275.701\" style=\"fill:none;fill-rule:evenodd;stroke:#000000;stroke-width:2px;stroke-linecap:butt;stroke-linejoin:miter;stroke-opacity:1\"/>\n",
       "<path class=\"bond-2\" d=\"M 150.67,299.573 L 211.94,264.225\" style=\"fill:none;fill-rule:evenodd;stroke:#000000;stroke-width:2px;stroke-linecap:butt;stroke-linejoin:miter;stroke-opacity:1\"/>\n",
       "<path class=\"bond-4\" d=\"M 236.06,275.701 L 276.237,298.818\" style=\"fill:none;fill-rule:evenodd;stroke:#000000;stroke-width:2px;stroke-linecap:butt;stroke-linejoin:miter;stroke-opacity:1\"/>\n",
       "<path class=\"bond-4\" d=\"M 276.237,298.818 L 316.413,321.935\" style=\"fill:none;fill-rule:evenodd;stroke:#FF0000;stroke-width:2px;stroke-linecap:butt;stroke-linejoin:miter;stroke-opacity:1\"/>\n",
       "<path class=\"bond-5\" d=\"M 236.06,275.701 L 235.705,174.242\" style=\"fill:none;fill-rule:evenodd;stroke:#000000;stroke-width:2px;stroke-linecap:butt;stroke-linejoin:miter;stroke-opacity:1\"/>\n",
       "<path class=\"bond-1\" d=\"M 235.705,174.242 L 322.807,123.513\" style=\"fill:none;fill-rule:evenodd;stroke:#000000;stroke-width:2px;stroke-linecap:butt;stroke-linejoin:miter;stroke-opacity:1\"/>\n",
       "<path class=\"bond-9\" d=\"M 235.705,174.242 L 148.31,124.246\" style=\"fill:none;fill-rule:evenodd;stroke:#000000;stroke-width:2px;stroke-linecap:butt;stroke-linejoin:miter;stroke-opacity:1\"/>\n",
       "<path class=\"bond-9\" d=\"M 211.676,185.832 L 150.499,150.835\" style=\"fill:none;fill-rule:evenodd;stroke:#000000;stroke-width:2px;stroke-linecap:butt;stroke-linejoin:miter;stroke-opacity:1\"/>\n",
       "<path class=\"bond-3\" d=\"M 317.345,133.057 L 357.576,156.086\" style=\"fill:none;fill-rule:evenodd;stroke:#000000;stroke-width:2px;stroke-linecap:butt;stroke-linejoin:miter;stroke-opacity:1\"/>\n",
       "<path class=\"bond-3\" d=\"M 357.576,156.086 L 397.808,179.116\" style=\"fill:none;fill-rule:evenodd;stroke:#FF0000;stroke-width:2px;stroke-linecap:butt;stroke-linejoin:miter;stroke-opacity:1\"/>\n",
       "<path class=\"bond-3\" d=\"M 328.27,113.97 L 368.502,137\" style=\"fill:none;fill-rule:evenodd;stroke:#000000;stroke-width:2px;stroke-linecap:butt;stroke-linejoin:miter;stroke-opacity:1\"/>\n",
       "<path class=\"bond-3\" d=\"M 368.502,137 L 408.734,160.03\" style=\"fill:none;fill-rule:evenodd;stroke:#FF0000;stroke-width:2px;stroke-linecap:butt;stroke-linejoin:miter;stroke-opacity:1\"/>\n",
       "<path class=\"bond-12\" d=\"M 322.807,123.513 L 322.626,76.8703\" style=\"fill:none;fill-rule:evenodd;stroke:#000000;stroke-width:2px;stroke-linecap:butt;stroke-linejoin:miter;stroke-opacity:1\"/>\n",
       "<path class=\"bond-12\" d=\"M 322.626,76.8703 L 322.445,30.2273\" style=\"fill:none;fill-rule:evenodd;stroke:#FF0000;stroke-width:2px;stroke-linecap:butt;stroke-linejoin:miter;stroke-opacity:1\"/>\n",
       "<path class=\"bond-6\" d=\"M 323.43,333.465 L 323.504,380.108\" style=\"fill:none;fill-rule:evenodd;stroke:#FF0000;stroke-width:2px;stroke-linecap:butt;stroke-linejoin:miter;stroke-opacity:1\"/>\n",
       "<path class=\"bond-6\" d=\"M 323.504,380.108 L 323.577,426.751\" style=\"fill:none;fill-rule:evenodd;stroke:#000000;stroke-width:2px;stroke-linecap:butt;stroke-linejoin:miter;stroke-opacity:1\"/>\n",
       "<path class=\"bond-8\" d=\"M 323.577,426.751 L 410.936,476.992\" style=\"fill:none;fill-rule:evenodd;stroke:#000000;stroke-width:2px;stroke-linecap:butt;stroke-linejoin:miter;stroke-opacity:1\"/>\n",
       "<path class=\"bond-10\" d=\"M 318.065,417.237 L 277.967,440.468\" style=\"fill:none;fill-rule:evenodd;stroke:#000000;stroke-width:2px;stroke-linecap:butt;stroke-linejoin:miter;stroke-opacity:1\"/>\n",
       "<path class=\"bond-10\" d=\"M 277.967,440.468 L 237.87,463.7\" style=\"fill:none;fill-rule:evenodd;stroke:#FF0000;stroke-width:2px;stroke-linecap:butt;stroke-linejoin:miter;stroke-opacity:1\"/>\n",
       "<path class=\"bond-10\" d=\"M 329.09,436.266 L 288.992,459.497\" style=\"fill:none;fill-rule:evenodd;stroke:#000000;stroke-width:2px;stroke-linecap:butt;stroke-linejoin:miter;stroke-opacity:1\"/>\n",
       "<path class=\"bond-10\" d=\"M 288.992,459.497 L 248.895,482.729\" style=\"fill:none;fill-rule:evenodd;stroke:#FF0000;stroke-width:2px;stroke-linecap:butt;stroke-linejoin:miter;stroke-opacity:1\"/>\n",
       "<text style=\"font-size:15px;font-style:normal;font-weight:normal;fill-opacity:1;stroke:none;font-family:sans-serif;text-anchor:start;fill:#FF0000\" x=\"403.271\" y=\"181.083\"><tspan>O</tspan></text>\n",
       "<text style=\"font-size:15px;font-style:normal;font-weight:normal;fill-opacity:1;stroke:none;font-family:sans-serif;text-anchor:start;fill:#FF0000\" x=\"316.413\" y=\"333.465\"><tspan>O</tspan></text>\n",
       "<text style=\"font-size:15px;font-style:normal;font-weight:normal;fill-opacity:1;stroke:none;font-family:sans-serif;text-anchor:start;fill:#FF0000\" x=\"229.373\" y=\"484.773\"><tspan>O</tspan></text>\n",
       "<text style=\"font-size:15px;font-style:normal;font-weight:normal;fill-opacity:1;stroke:none;font-family:sans-serif;text-anchor:start;fill:#FF0000\" x=\"308.911\" y=\"30.2273\"><tspan>OH</tspan></text>\n",
       "</svg>"
      ],
      "text/plain": [
       "<IPython.core.display.SVG object>"
      ]
     },
     "execution_count": 6,
     "metadata": {},
     "output_type": "execute_result"
    }
   ],
   "source": [
    "from chembl_webresource_client.new_client import new_client\n",
    "from IPython.display import SVG\n",
    "\n",
    "image = new_client.image\n",
    "image.set_format('svg')\n",
    "SVG(image.get('CHEMBL25'))"
   ]
  },
  {
   "cell_type": "markdown",
   "metadata": {},
   "source": [
    "## Get a single compound by standard inchi key"
   ]
  },
  {
   "cell_type": "code",
   "execution_count": 7,
   "metadata": {},
   "outputs": [
    {
     "data": {
      "text/plain": [
       "[{'molecule_chembl_id': 'CHEMBL25', 'molecule_structures': {'canonical_smiles': 'CC(=O)Oc1ccccc1C(=O)O', 'molfile': '\\n     RDKit          2D\\n\\n 13 13  0  0  0  0  0  0  0  0999 V2000\\n    8.8810   -2.1206    0.0000 C   0  0  0  0  0  0  0  0  0  0  0  0\\n    8.8798   -2.9479    0.0000 C   0  0  0  0  0  0  0  0  0  0  0  0\\n    9.5946   -3.3607    0.0000 C   0  0  0  0  0  0  0  0  0  0  0  0\\n   10.3110   -2.9474    0.0000 C   0  0  0  0  0  0  0  0  0  0  0  0\\n   10.3081   -2.1170    0.0000 C   0  0  0  0  0  0  0  0  0  0  0  0\\n    9.5928   -1.7078    0.0000 C   0  0  0  0  0  0  0  0  0  0  0  0\\n   11.0210   -1.7018    0.0000 C   0  0  0  0  0  0  0  0  0  0  0  0\\n   11.7369   -2.1116    0.0000 O   0  0  0  0  0  0  0  0  0  0  0  0\\n   11.0260   -3.3588    0.0000 O   0  0  0  0  0  0  0  0  0  0  0  0\\n   11.0273   -4.1837    0.0000 C   0  0  0  0  0  0  0  0  0  0  0  0\\n   11.7423   -4.5949    0.0000 C   0  0  0  0  0  0  0  0  0  0  0  0\\n   10.3136   -4.5972    0.0000 O   0  0  0  0  0  0  0  0  0  0  0  0\\n   11.0178   -0.8769    0.0000 O   0  0  0  0  0  0  0  0  0  0  0  0\\n  1  2  2  0\\n  5  7  1  0\\n  3  4  2  0\\n  7  8  2  0\\n  4  9  1  0\\n  4  5  1  0\\n  9 10  1  0\\n  2  3  1  0\\n 10 11  1  0\\n  5  6  2  0\\n 10 12  2  0\\n  6  1  1  0\\n  7 13  1  0\\nM  END\\n\\n> <chembl_id>\\nCHEMBL25\\n\\n> <chembl_pref_name>\\nASPIRIN\\n\\n', 'standard_inchi': 'InChI=1S/C9H8O4/c1-6(10)13-8-5-3-2-4-7(8)9(11)12/h2-5H,1H3,(H,11,12)', 'standard_inchi_key': 'BSYNRYMUTXBXSQ-UHFFFAOYSA-N'}, 'pref_name': 'ASPIRIN'}]"
      ]
     },
     "execution_count": 7,
     "metadata": {},
     "output_type": "execute_result"
    }
   ],
   "source": [
    "from chembl_webresource_client.new_client import new_client\n",
    "\n",
    "molecule = new_client.molecule\n",
    "mol = molecule.filter(molecule_structures__standard_inchi_key='BSYNRYMUTXBXSQ-UHFFFAOYSA-N').only(['molecule_chembl_id', 'pref_name', 'molecule_structures'])\n",
    "mol"
   ]
  },
  {
   "cell_type": "markdown",
   "metadata": {},
   "source": [
    "## Find compounds similar to a given SMILES query, with a similarity threshold of 70% using the `similarity` endpoint"
   ]
  },
  {
   "cell_type": "code",
   "execution_count": 8,
   "metadata": {},
   "outputs": [
    {
     "name": "stdout",
     "output_type": "stream",
     "text": [
      "{'molecule_chembl_id': 'CHEMBL477888', 'similarity': '85.4166686534881591796875'}\n",
      "{'molecule_chembl_id': 'CHEMBL477889', 'similarity': '85.4166686534881591796875'}\n",
      "{'molecule_chembl_id': 'CHEMBL478779', 'similarity': '85.4166686534881591796875'}\n",
      "{'molecule_chembl_id': 'CHEMBL2304268', 'similarity': '70.1754391193389892578125'}\n"
     ]
    }
   ],
   "source": [
    "from chembl_webresource_client.new_client import new_client\n",
    "\n",
    "similarity = new_client.similarity\n",
    "res = similarity.filter(smiles=\"CO[C@@H](CCC#C\\C=C/CCCC(C)CCCCC=C)C(=O)[O-]\", similarity=70).only(['molecule_chembl_id', 'similarity'])\n",
    "for i in res:\n",
    "    print(i)"
   ]
  },
  {
   "cell_type": "markdown",
   "metadata": {},
   "source": [
    "## Find compounds similar to aspirin (CHEMBL25) with similarity threshold of 70% using the `similarity` endpoint\n",
    "- Use pandas python module to view the result as a table of data"
   ]
  },
  {
   "cell_type": "code",
   "execution_count": 9,
   "metadata": {},
   "outputs": [
    {
     "data": {
      "text/html": [
       "<div>\n",
       "<style scoped>\n",
       "    .dataframe tbody tr th:only-of-type {\n",
       "        vertical-align: middle;\n",
       "    }\n",
       "\n",
       "    .dataframe tbody tr th {\n",
       "        vertical-align: top;\n",
       "    }\n",
       "\n",
       "    .dataframe thead th {\n",
       "        text-align: right;\n",
       "    }\n",
       "</style>\n",
       "<table border=\"1\" class=\"dataframe\">\n",
       "  <thead>\n",
       "    <tr style=\"text-align: right;\">\n",
       "      <th></th>\n",
       "      <th>molecule_chembl_id</th>\n",
       "      <th>pref_name</th>\n",
       "      <th>similarity</th>\n",
       "    </tr>\n",
       "  </thead>\n",
       "  <tbody>\n",
       "    <tr>\n",
       "      <th>0</th>\n",
       "      <td>CHEMBL2296002</td>\n",
       "      <td>None</td>\n",
       "      <td>100</td>\n",
       "    </tr>\n",
       "    <tr>\n",
       "      <th>1</th>\n",
       "      <td>CHEMBL1697753</td>\n",
       "      <td>ASPIRIN DL-LYSINE</td>\n",
       "      <td>100</td>\n",
       "    </tr>\n",
       "    <tr>\n",
       "      <th>2</th>\n",
       "      <td>CHEMBL3833325</td>\n",
       "      <td>CARBASPIRIN CALCIUM</td>\n",
       "      <td>88.8888895511627197265625</td>\n",
       "    </tr>\n",
       "    <tr>\n",
       "      <th>3</th>\n",
       "      <td>CHEMBL3833404</td>\n",
       "      <td>CARBASPIRIN</td>\n",
       "      <td>88.8888895511627197265625</td>\n",
       "    </tr>\n",
       "    <tr>\n",
       "      <th>4</th>\n",
       "      <td>CHEMBL350343</td>\n",
       "      <td>DIPLOSALSALATE</td>\n",
       "      <td>85.7142865657806396484375</td>\n",
       "    </tr>\n",
       "    <tr>\n",
       "      <th>5</th>\n",
       "      <td>CHEMBL4515737</td>\n",
       "      <td>None</td>\n",
       "      <td>70.3703701496124267578125</td>\n",
       "    </tr>\n",
       "    <tr>\n",
       "      <th>6</th>\n",
       "      <td>CHEMBL1451173</td>\n",
       "      <td>DIPYROCETYL</td>\n",
       "      <td>69.9999988079071044921875</td>\n",
       "    </tr>\n",
       "  </tbody>\n",
       "</table>\n",
       "</div>"
      ],
      "text/plain": [
       "  molecule_chembl_id            pref_name                 similarity\n",
       "0      CHEMBL2296002                 None                        100\n",
       "1      CHEMBL1697753    ASPIRIN DL-LYSINE                        100\n",
       "2      CHEMBL3833325  CARBASPIRIN CALCIUM  88.8888895511627197265625\n",
       "3      CHEMBL3833404          CARBASPIRIN  88.8888895511627197265625\n",
       "4       CHEMBL350343       DIPLOSALSALATE  85.7142865657806396484375\n",
       "5      CHEMBL4515737                 None  70.3703701496124267578125\n",
       "6      CHEMBL1451173          DIPYROCETYL  69.9999988079071044921875"
      ]
     },
     "execution_count": 9,
     "metadata": {},
     "output_type": "execute_result"
    }
   ],
   "source": [
    "from chembl_webresource_client.new_client import new_client\n",
    "import pandas as pd #Use pandas python module to view data\n",
    "\n",
    "similarity = new_client.similarity\n",
    "res = similarity.filter(chembl_id='CHEMBL25', similarity=70).only(['molecule_chembl_id', 'pref_name', 'similarity'])\n",
    "pd.DataFrame(res)"
   ]
  },
  {
   "cell_type": "markdown",
   "metadata": {},
   "source": [
    "## Find compounds with the same connectivity"
   ]
  },
  {
   "cell_type": "code",
   "execution_count": 10,
   "metadata": {},
   "outputs": [
    {
     "data": {
      "text/html": [
       "<div>\n",
       "<style scoped>\n",
       "    .dataframe tbody tr th:only-of-type {\n",
       "        vertical-align: middle;\n",
       "    }\n",
       "\n",
       "    .dataframe tbody tr th {\n",
       "        vertical-align: top;\n",
       "    }\n",
       "\n",
       "    .dataframe thead th {\n",
       "        text-align: right;\n",
       "    }\n",
       "</style>\n",
       "<table border=\"1\" class=\"dataframe\">\n",
       "  <thead>\n",
       "    <tr style=\"text-align: right;\">\n",
       "      <th></th>\n",
       "      <th>molecule_chembl_id</th>\n",
       "      <th>pref_name</th>\n",
       "    </tr>\n",
       "  </thead>\n",
       "  <tbody>\n",
       "    <tr>\n",
       "      <th>0</th>\n",
       "      <td>CHEMBL1431</td>\n",
       "      <td>METFORMIN</td>\n",
       "    </tr>\n",
       "    <tr>\n",
       "      <th>1</th>\n",
       "      <td>CHEMBL1703</td>\n",
       "      <td>METFORMIN HYDROCHLORIDE</td>\n",
       "    </tr>\n",
       "    <tr>\n",
       "      <th>2</th>\n",
       "      <td>CHEMBL3094198</td>\n",
       "      <td>None</td>\n",
       "    </tr>\n",
       "  </tbody>\n",
       "</table>\n",
       "</div>"
      ],
      "text/plain": [
       "  molecule_chembl_id                pref_name\n",
       "0         CHEMBL1431                METFORMIN\n",
       "1         CHEMBL1703  METFORMIN HYDROCHLORIDE\n",
       "2      CHEMBL3094198                     None"
      ]
     },
     "execution_count": 10,
     "metadata": {},
     "output_type": "execute_result"
    }
   ],
   "source": [
    "from chembl_webresource_client.new_client import new_client\n",
    "import pandas as pd #Use pandas python module to view data\n",
    "\n",
    "molecule = new_client.molecule\n",
    "res = molecule.filter(molecule_structures__canonical_smiles__connectivity='CN(C)C(=N)N=C(N)N').only(['molecule_chembl_id', 'pref_name'])\n",
    "pd.DataFrame(res)"
   ]
  },
  {
   "cell_type": "markdown",
   "metadata": {},
   "source": [
    "## Get all biotherapeutic compounds"
   ]
  },
  {
   "cell_type": "code",
   "execution_count": 11,
   "metadata": {},
   "outputs": [
    {
     "data": {
      "text/plain": [
       "22963"
      ]
     },
     "execution_count": 11,
     "metadata": {},
     "output_type": "execute_result"
    }
   ],
   "source": [
    "from chembl_webresource_client.new_client import new_client\n",
    "\n",
    "molecule = new_client.molecule\n",
    "biotherapeutics = molecule.filter(biotherapeutic__isnull=False)\n",
    "len(biotherapeutics)"
   ]
  },
  {
   "cell_type": "markdown",
   "metadata": {},
   "source": [
    "## Get compounds with molecular weight <= 300\n",
    "- The `lte` keyword means 'less than or equal to'"
   ]
  },
  {
   "cell_type": "code",
   "execution_count": 3,
   "metadata": {},
   "outputs": [
    {
     "data": {
      "text/plain": [
       "427124"
      ]
     },
     "execution_count": 3,
     "metadata": {},
     "output_type": "execute_result"
    }
   ],
   "source": [
    "from chembl_webresource_client.new_client import new_client\n",
    "\n",
    "molecule = new_client.molecule\n",
    "light_molecules = molecule.filter(molecule_properties__mw_freebase__lte=300)\n",
    "\n",
    "len(light_molecules)"
   ]
  },
  {
   "cell_type": "markdown",
   "metadata": {},
   "source": [
    "## Get compounds with molecular weight <= 300 AND a pref_name ending with nib (ie a small molecule inhibitor)\n",
    "- Note the double underscore to access the 'mw_freebase' database field that is nested within 'molecule_properties' field\n",
    "- Multiple `filter` conditions can be combined into a list separated by \",\""
   ]
  },
  {
   "cell_type": "code",
   "execution_count": 13,
   "metadata": {},
   "outputs": [
    {
     "data": {
      "text/html": [
       "<div>\n",
       "<style scoped>\n",
       "    .dataframe tbody tr th:only-of-type {\n",
       "        vertical-align: middle;\n",
       "    }\n",
       "\n",
       "    .dataframe tbody tr th {\n",
       "        vertical-align: top;\n",
       "    }\n",
       "\n",
       "    .dataframe thead th {\n",
       "        text-align: right;\n",
       "    }\n",
       "</style>\n",
       "<table border=\"1\" class=\"dataframe\">\n",
       "  <thead>\n",
       "    <tr style=\"text-align: right;\">\n",
       "      <th></th>\n",
       "      <th>molecule_chembl_id</th>\n",
       "      <th>pref_name</th>\n",
       "    </tr>\n",
       "  </thead>\n",
       "  <tbody>\n",
       "    <tr>\n",
       "      <th>0</th>\n",
       "      <td>CHEMBL276711</td>\n",
       "      <td>SEMAXANIB</td>\n",
       "    </tr>\n",
       "    <tr>\n",
       "      <th>1</th>\n",
       "      <td>CHEMBL4594348</td>\n",
       "      <td>ELSUBRUTINIB</td>\n",
       "    </tr>\n",
       "  </tbody>\n",
       "</table>\n",
       "</div>"
      ],
      "text/plain": [
       "  molecule_chembl_id     pref_name\n",
       "0       CHEMBL276711     SEMAXANIB\n",
       "1      CHEMBL4594348  ELSUBRUTINIB"
      ]
     },
     "execution_count": 13,
     "metadata": {},
     "output_type": "execute_result"
    }
   ],
   "source": [
    "from chembl_webresource_client.new_client import new_client\n",
    "import pandas as pd #Use pandas python module to view data as tables\n",
    "\n",
    "molecule = new_client.molecule\n",
    "light_nib_molecules = molecule.filter(molecule_properties__mw_freebase__lte=300, pref_name__iendswith=\"nib\").only(['molecule_chembl_id', 'pref_name'])\n",
    "\n",
    "pd.DataFrame(light_nib_molecules)"
   ]
  },
  {
   "cell_type": "markdown",
   "metadata": {},
   "source": [
    "## Get all compounds in ChEMBL with no Rule-of-Five violations"
   ]
  },
  {
   "cell_type": "code",
   "execution_count": 14,
   "metadata": {},
   "outputs": [
    {
     "data": {
      "text/plain": [
       "1441706"
      ]
     },
     "execution_count": 14,
     "metadata": {},
     "output_type": "execute_result"
    }
   ],
   "source": [
    "from chembl_webresource_client.new_client import new_client\n",
    "\n",
    "molecule = new_client.molecule\n",
    "no_violations = molecule.filter(molecule_properties__num_ro5_violations=0)\n",
    "len(no_violations)"
   ]
  },
  {
   "cell_type": "markdown",
   "metadata": {},
   "source": [
    "# 2. Drugs<a name=\"section2\"></a>\n",
    "- By contrast to compounds, marketed drugs and clinical candidates in ChEMBL normally have curated information for their synonyms, disease indication, mechanism of action, safety warnings etc, and do not necessarily have to have associated measured bioactivity data. \n",
    "- Clinical candidates are drugs that are progressing through Phases 1, 2 and 3 of the drug discovery pipeline, while approved drugs are considered to be Phase 4 (ie max_phase=4).\n",
    "- Note that the data in the `drugs` API endpoint is aggregated onto the parent drug form within each compound family"
   ]
  },
  {
   "cell_type": "markdown",
   "metadata": {},
   "source": [
    "## Filter drugs by approval year and name using the `drug` endpoint"
   ]
  },
  {
   "cell_type": "code",
   "execution_count": 15,
   "metadata": {},
   "outputs": [
    {
     "data": {
      "text/html": [
       "<div>\n",
       "<style scoped>\n",
       "    .dataframe tbody tr th:only-of-type {\n",
       "        vertical-align: middle;\n",
       "    }\n",
       "\n",
       "    .dataframe tbody tr th {\n",
       "        vertical-align: top;\n",
       "    }\n",
       "\n",
       "    .dataframe thead th {\n",
       "        text-align: right;\n",
       "    }\n",
       "</style>\n",
       "<table border=\"1\" class=\"dataframe\">\n",
       "  <thead>\n",
       "    <tr style=\"text-align: right;\">\n",
       "      <th></th>\n",
       "      <th>applicants</th>\n",
       "      <th>atc_code_description</th>\n",
       "      <th>development_phase</th>\n",
       "      <th>first_approval</th>\n",
       "      <th>molecule_chembl_id</th>\n",
       "      <th>research_codes</th>\n",
       "      <th>synonyms</th>\n",
       "      <th>usan_stem</th>\n",
       "      <th>usan_stem_definition</th>\n",
       "      <th>usan_year</th>\n",
       "    </tr>\n",
       "  </thead>\n",
       "  <tbody>\n",
       "    <tr>\n",
       "      <th>0</th>\n",
       "      <td>None</td>\n",
       "      <td>None</td>\n",
       "      <td>4</td>\n",
       "      <td>1987</td>\n",
       "      <td>CHEMBL611</td>\n",
       "      <td>None</td>\n",
       "      <td>[Terazosin (BAN, INN, MI), Terazosin hydrochlo...</td>\n",
       "      <td>-azosin</td>\n",
       "      <td>antihypertensives (prazosin type)</td>\n",
       "      <td>1980</td>\n",
       "    </tr>\n",
       "    <tr>\n",
       "      <th>1</th>\n",
       "      <td>None</td>\n",
       "      <td>None</td>\n",
       "      <td>4</td>\n",
       "      <td>1990</td>\n",
       "      <td>CHEMBL707</td>\n",
       "      <td>None</td>\n",
       "      <td>[Doxazosin mesilate (JAN), Doxazosin mesylate ...</td>\n",
       "      <td>-azosin</td>\n",
       "      <td>antihypertensives (prazosin type)</td>\n",
       "      <td>1981</td>\n",
       "    </tr>\n",
       "  </tbody>\n",
       "</table>\n",
       "</div>"
      ],
      "text/plain": [
       "  applicants atc_code_description  development_phase  first_approval  \\\n",
       "0       None                 None                  4            1987   \n",
       "1       None                 None                  4            1990   \n",
       "\n",
       "  molecule_chembl_id research_codes  \\\n",
       "0          CHEMBL611           None   \n",
       "1          CHEMBL707           None   \n",
       "\n",
       "                                            synonyms usan_stem  \\\n",
       "0  [Terazosin (BAN, INN, MI), Terazosin hydrochlo...   -azosin   \n",
       "1  [Doxazosin mesilate (JAN), Doxazosin mesylate ...   -azosin   \n",
       "\n",
       "                usan_stem_definition  usan_year  \n",
       "0  antihypertensives (prazosin type)       1980  \n",
       "1  antihypertensives (prazosin type)       1981  "
      ]
     },
     "execution_count": 15,
     "metadata": {},
     "output_type": "execute_result"
    }
   ],
   "source": [
    "from chembl_webresource_client.new_client import new_client\n",
    "import pandas as pd #Use pandas python module to view data as tables\n",
    "\n",
    "drug = new_client.drug\n",
    "res = drug.filter(first_approval__gte=1980).filter(usan_stem=\"-azosin\").only(['development_phase','first_approval','molecule_chembl_id','synonyms',  'usan_stem','usan_stem_definition',  'usan_year'])\n",
    "pd.DataFrame(res)"
   ]
  },
  {
   "cell_type": "markdown",
   "metadata": {},
   "source": [
    "## Find compounds that have been recently approved as marketed drugs and are immunosupressants\n",
    "- Use the `molecule` endpoint to find compounds (an alternative would be to use the `drugs` endpoint)\n",
    "- Use `order_by` to sort the result"
   ]
  },
  {
   "cell_type": "code",
   "execution_count": 17,
   "metadata": {},
   "outputs": [
    {
     "data": {
      "text/html": [
       "<div>\n",
       "<style scoped>\n",
       "    .dataframe tbody tr th:only-of-type {\n",
       "        vertical-align: middle;\n",
       "    }\n",
       "\n",
       "    .dataframe tbody tr th {\n",
       "        vertical-align: top;\n",
       "    }\n",
       "\n",
       "    .dataframe thead th {\n",
       "        text-align: right;\n",
       "    }\n",
       "</style>\n",
       "<table border=\"1\" class=\"dataframe\">\n",
       "  <thead>\n",
       "    <tr style=\"text-align: right;\">\n",
       "      <th></th>\n",
       "      <th>atc_classifications</th>\n",
       "      <th>first_approval</th>\n",
       "      <th>indication_class</th>\n",
       "      <th>max_phase</th>\n",
       "      <th>molecule_chembl_id</th>\n",
       "      <th>molecule_type</th>\n",
       "      <th>pref_name</th>\n",
       "    </tr>\n",
       "  </thead>\n",
       "  <tbody>\n",
       "    <tr>\n",
       "      <th>0</th>\n",
       "      <td>[L04AA47]</td>\n",
       "      <td>2020</td>\n",
       "      <td>None</td>\n",
       "      <td>4</td>\n",
       "      <td>CHEMBL2109334</td>\n",
       "      <td>Antibody</td>\n",
       "      <td>INEBILIZUMAB</td>\n",
       "    </tr>\n",
       "    <tr>\n",
       "      <th>1</th>\n",
       "      <td>[L04AA38]</td>\n",
       "      <td>2020</td>\n",
       "      <td>None</td>\n",
       "      <td>4</td>\n",
       "      <td>CHEMBL3707247</td>\n",
       "      <td>Small molecule</td>\n",
       "      <td>OZANIMOD</td>\n",
       "    </tr>\n",
       "    <tr>\n",
       "      <th>2</th>\n",
       "      <td>[L04AC19]</td>\n",
       "      <td>2020</td>\n",
       "      <td>None</td>\n",
       "      <td>4</td>\n",
       "      <td>CHEMBL3833307</td>\n",
       "      <td>Antibody</td>\n",
       "      <td>SATRALIZUMAB</td>\n",
       "    </tr>\n",
       "    <tr>\n",
       "      <th>3</th>\n",
       "      <td>[L04AD03]</td>\n",
       "      <td>2021</td>\n",
       "      <td>None</td>\n",
       "      <td>4</td>\n",
       "      <td>CHEMBL2218919</td>\n",
       "      <td>Protein</td>\n",
       "      <td>VOCLOSPORIN</td>\n",
       "    </tr>\n",
       "  </tbody>\n",
       "</table>\n",
       "</div>"
      ],
      "text/plain": [
       "  atc_classifications  first_approval indication_class  max_phase  \\\n",
       "0           [L04AA47]            2020             None          4   \n",
       "1           [L04AA38]            2020             None          4   \n",
       "2           [L04AC19]            2020             None          4   \n",
       "3           [L04AD03]            2021             None          4   \n",
       "\n",
       "  molecule_chembl_id   molecule_type     pref_name  \n",
       "0      CHEMBL2109334        Antibody  INEBILIZUMAB  \n",
       "1      CHEMBL3707247  Small molecule      OZANIMOD  \n",
       "2      CHEMBL3833307        Antibody  SATRALIZUMAB  \n",
       "3      CHEMBL2218919         Protein   VOCLOSPORIN  "
      ]
     },
     "execution_count": 17,
     "metadata": {},
     "output_type": "execute_result"
    }
   ],
   "source": [
    "from chembl_webresource_client.new_client import new_client\n",
    "import pandas as pd #Use pandas python module to view data as tables\n",
    "\n",
    "molecule = new_client.molecule\n",
    "approved_drugs = molecule.filter(max_phase=4 #approved drugs only\n",
    "                                 , atc_classifications__level2='L04' #ATC classification as Immunosupressants\n",
    "                                 , first_approval__gte=2020 #first_approval after 2020\n",
    "                                ).order_by('first_approval').only(['atc_classifications','first_approval','indication_class','max_phase','pref_name','molecule_type', 'molecule_chembl_id'])\n",
    "\n",
    "pd.DataFrame(approved_drugs) #Convert the list of results into a Pandas dataframe"
   ]
  },
  {
   "cell_type": "markdown",
   "metadata": {},
   "source": [
    "## Get Phase 3 clinical candidates for lung cancer, and examine their molecular properties\n",
    "- First use the `drug_indication` API endpoint, specifying 'max_phase_for_ind' to be 3 (ie clinical candidates in Phase 3 progressing through the drug discovery pipeline for lung cancer)\n",
    "- And then feed the results into the `molecule` API endpoint to extract their molecular properties"
   ]
  },
  {
   "cell_type": "code",
   "execution_count": 18,
   "metadata": {},
   "outputs": [
    {
     "data": {
      "text/html": [
       "<div>\n",
       "<style scoped>\n",
       "    .dataframe tbody tr th:only-of-type {\n",
       "        vertical-align: middle;\n",
       "    }\n",
       "\n",
       "    .dataframe tbody tr th {\n",
       "        vertical-align: top;\n",
       "    }\n",
       "\n",
       "    .dataframe thead th {\n",
       "        text-align: right;\n",
       "    }\n",
       "</style>\n",
       "<table border=\"1\" class=\"dataframe\">\n",
       "  <thead>\n",
       "    <tr style=\"text-align: right;\">\n",
       "      <th></th>\n",
       "      <th>molecule_chembl_id</th>\n",
       "      <th>molecule_properties</th>\n",
       "      <th>mw_freebase</th>\n",
       "    </tr>\n",
       "  </thead>\n",
       "  <tbody>\n",
       "    <tr>\n",
       "      <th>0</th>\n",
       "      <td>CHEMBL25</td>\n",
       "      <td>{'alogp': '1.31', 'aromatic_rings': 1, 'cx_log...</td>\n",
       "      <td>180.16</td>\n",
       "    </tr>\n",
       "    <tr>\n",
       "      <th>1</th>\n",
       "      <td>CHEMBL38</td>\n",
       "      <td>{'alogp': '5.60', 'aromatic_rings': 0, 'cx_log...</td>\n",
       "      <td>300.44</td>\n",
       "    </tr>\n",
       "    <tr>\n",
       "      <th>2</th>\n",
       "      <td>CHEMBL45</td>\n",
       "      <td>{'alogp': '1.86', 'aromatic_rings': 2, 'cx_log...</td>\n",
       "      <td>232.28</td>\n",
       "    </tr>\n",
       "    <tr>\n",
       "      <th>3</th>\n",
       "      <td>CHEMBL481</td>\n",
       "      <td>{'alogp': '4.09', 'aromatic_rings': 3, 'cx_log...</td>\n",
       "      <td>586.69</td>\n",
       "    </tr>\n",
       "    <tr>\n",
       "      <th>4</th>\n",
       "      <td>CHEMBL84</td>\n",
       "      <td>{'alogp': '1.85', 'aromatic_rings': 3, 'cx_log...</td>\n",
       "      <td>421.45</td>\n",
       "    </tr>\n",
       "  </tbody>\n",
       "</table>\n",
       "</div>"
      ],
      "text/plain": [
       "  molecule_chembl_id                                molecule_properties  \\\n",
       "0           CHEMBL25  {'alogp': '1.31', 'aromatic_rings': 1, 'cx_log...   \n",
       "1           CHEMBL38  {'alogp': '5.60', 'aromatic_rings': 0, 'cx_log...   \n",
       "2           CHEMBL45  {'alogp': '1.86', 'aromatic_rings': 2, 'cx_log...   \n",
       "3          CHEMBL481  {'alogp': '4.09', 'aromatic_rings': 3, 'cx_log...   \n",
       "4           CHEMBL84  {'alogp': '1.85', 'aromatic_rings': 3, 'cx_log...   \n",
       "\n",
       "  mw_freebase  \n",
       "0      180.16  \n",
       "1      300.44  \n",
       "2      232.28  \n",
       "3      586.69  \n",
       "4      421.45  "
      ]
     },
     "execution_count": 18,
     "metadata": {},
     "output_type": "execute_result"
    }
   ],
   "source": [
    "from chembl_webresource_client.new_client import new_client\n",
    "import pandas as pd #Use pandas python module to view data as tables\n",
    "\n",
    "drug_indication = new_client.drug_indication\n",
    "molecules = new_client.molecule\n",
    "\n",
    "lung_cancer_ind = drug_indication.filter(efo_term__icontains=\"LUNG CARCINOMA\", max_phase_for_ind = 3)\n",
    "lung_cancer_phase3 = molecules.filter(molecule_chembl_id__in=[x['molecule_chembl_id'] for x in lung_cancer_ind]).only(['molecule_chembl_id','molecule_properties'])\n",
    "lung_cancer_phase3 = pd.DataFrame(lung_cancer_phase3) #Convert results to dataframe\n",
    "\n",
    "#Expand out nested cells for 'mw_freebase':\n",
    "lung_cancer_phase3['mw_freebase'] = lung_cancer_phase3.loc[ lung_cancer_phase3['molecule_properties'].notnull(), 'molecule_properties'].apply(lambda x: x['mw_freebase']) #This is the mwt of the parent compound\n",
    "\n",
    "lung_cancer_phase3.head() #Display first 5 rows of result"
   ]
  },
  {
   "cell_type": "markdown",
   "metadata": {},
   "source": [
    "## What is the (therapeutic) mechanism of action for Sodium channel protein type V alpha subunit? For which drugs?"
   ]
  },
  {
   "cell_type": "code",
   "execution_count": 48,
   "metadata": {},
   "outputs": [
    {
     "data": {
      "text/html": [
       "<div>\n",
       "<style scoped>\n",
       "    .dataframe tbody tr th:only-of-type {\n",
       "        vertical-align: middle;\n",
       "    }\n",
       "\n",
       "    .dataframe tbody tr th {\n",
       "        vertical-align: top;\n",
       "    }\n",
       "\n",
       "    .dataframe thead th {\n",
       "        text-align: right;\n",
       "    }\n",
       "</style>\n",
       "<table border=\"1\" class=\"dataframe\">\n",
       "  <thead>\n",
       "    <tr style=\"text-align: right;\">\n",
       "      <th></th>\n",
       "      <th>action_type</th>\n",
       "      <th>max_phase</th>\n",
       "      <th>mechanism_comment</th>\n",
       "      <th>mechanism_of_action</th>\n",
       "      <th>molecule_chembl_id</th>\n",
       "      <th>target_chembl_id</th>\n",
       "    </tr>\n",
       "  </thead>\n",
       "  <tbody>\n",
       "    <tr>\n",
       "      <th>0</th>\n",
       "      <td>BLOCKER</td>\n",
       "      <td>4</td>\n",
       "      <td>None</td>\n",
       "      <td>Sodium channel protein type V alpha subunit bl...</td>\n",
       "      <td>CHEMBL1200822</td>\n",
       "      <td>CHEMBL1980</td>\n",
       "    </tr>\n",
       "    <tr>\n",
       "      <th>1</th>\n",
       "      <td>BLOCKER</td>\n",
       "      <td>4</td>\n",
       "      <td>None</td>\n",
       "      <td>Sodium channel protein type V alpha subunit bl...</td>\n",
       "      <td>CHEMBL1200612</td>\n",
       "      <td>CHEMBL1980</td>\n",
       "    </tr>\n",
       "    <tr>\n",
       "      <th>2</th>\n",
       "      <td>BLOCKER</td>\n",
       "      <td>4</td>\n",
       "      <td>None</td>\n",
       "      <td>Sodium channel protein type V alpha subunit bl...</td>\n",
       "      <td>CHEMBL1404</td>\n",
       "      <td>CHEMBL1980</td>\n",
       "    </tr>\n",
       "    <tr>\n",
       "      <th>3</th>\n",
       "      <td>BLOCKER</td>\n",
       "      <td>2</td>\n",
       "      <td>None</td>\n",
       "      <td>Sodium channel protein type V alpha subunit bl...</td>\n",
       "      <td>CHEMBL3545040</td>\n",
       "      <td>CHEMBL1980</td>\n",
       "    </tr>\n",
       "    <tr>\n",
       "      <th>4</th>\n",
       "      <td>BLOCKER</td>\n",
       "      <td>2</td>\n",
       "      <td>L-type calcium channel (CACNA1C, CACNA1D, CACN...</td>\n",
       "      <td>Sodium channel protein type V alpha subunit bl...</td>\n",
       "      <td>CHEMBL3545169</td>\n",
       "      <td>CHEMBL1980</td>\n",
       "    </tr>\n",
       "    <tr>\n",
       "      <th>5</th>\n",
       "      <td>BLOCKER</td>\n",
       "      <td>4</td>\n",
       "      <td>Prenylamine is a potent sodium channel (NaCh) ...</td>\n",
       "      <td>Sodium channel protein type V alpha subunit bl...</td>\n",
       "      <td>CHEMBL24072</td>\n",
       "      <td>CHEMBL1980</td>\n",
       "    </tr>\n",
       "    <tr>\n",
       "      <th>6</th>\n",
       "      <td>BLOCKER</td>\n",
       "      <td>3</td>\n",
       "      <td>Also partially blocks the hERG channel.</td>\n",
       "      <td>Sodium channel protein type V alpha subunit bl...</td>\n",
       "      <td>CHEMBL2107383</td>\n",
       "      <td>CHEMBL1980</td>\n",
       "    </tr>\n",
       "  </tbody>\n",
       "</table>\n",
       "</div>"
      ],
      "text/plain": [
       "  action_type  max_phase                                  mechanism_comment  \\\n",
       "0     BLOCKER          4                                               None   \n",
       "1     BLOCKER          4                                               None   \n",
       "2     BLOCKER          4                                               None   \n",
       "3     BLOCKER          2                                               None   \n",
       "4     BLOCKER          2  L-type calcium channel (CACNA1C, CACNA1D, CACN...   \n",
       "5     BLOCKER          4  Prenylamine is a potent sodium channel (NaCh) ...   \n",
       "6     BLOCKER          3            Also partially blocks the hERG channel.   \n",
       "\n",
       "                                 mechanism_of_action molecule_chembl_id  \\\n",
       "0  Sodium channel protein type V alpha subunit bl...      CHEMBL1200822   \n",
       "1  Sodium channel protein type V alpha subunit bl...      CHEMBL1200612   \n",
       "2  Sodium channel protein type V alpha subunit bl...         CHEMBL1404   \n",
       "3  Sodium channel protein type V alpha subunit bl...      CHEMBL3545040   \n",
       "4  Sodium channel protein type V alpha subunit bl...      CHEMBL3545169   \n",
       "5  Sodium channel protein type V alpha subunit bl...        CHEMBL24072   \n",
       "6  Sodium channel protein type V alpha subunit bl...      CHEMBL2107383   \n",
       "\n",
       "  target_chembl_id  \n",
       "0       CHEMBL1980  \n",
       "1       CHEMBL1980  \n",
       "2       CHEMBL1980  \n",
       "3       CHEMBL1980  \n",
       "4       CHEMBL1980  \n",
       "5       CHEMBL1980  \n",
       "6       CHEMBL1980  "
      ]
     },
     "execution_count": 48,
     "metadata": {},
     "output_type": "execute_result"
    }
   ],
   "source": [
    "from chembl_webresource_client.new_client import new_client\n",
    "import pandas as pd #Use pandas python module to view data as tables\n",
    "\n",
    "mechanism = new_client.mechanism\n",
    "res = mechanism.filter(target_chembl_id='CHEMBL1980' #Sodium channel protein type V alpha subunit target\n",
    "                      ).only(['action_type','max_phase','mechanism_comment','mechanism_of_action','molecule_chembl_id', 'target_chembl_id'])\n",
    "res = pd.DataFrame(res)\n",
    "res"
   ]
  },
  {
   "cell_type": "markdown",
   "metadata": {},
   "source": [
    "## Find marketed drugs that have been subsequently withdrawn for hepatotoxicity reasons "
   ]
  },
  {
   "cell_type": "code",
   "execution_count": 19,
   "metadata": {},
   "outputs": [
    {
     "data": {
      "text/html": [
       "<div>\n",
       "<style scoped>\n",
       "    .dataframe tbody tr th:only-of-type {\n",
       "        vertical-align: middle;\n",
       "    }\n",
       "\n",
       "    .dataframe tbody tr th {\n",
       "        vertical-align: top;\n",
       "    }\n",
       "\n",
       "    .dataframe thead th {\n",
       "        text-align: right;\n",
       "    }\n",
       "</style>\n",
       "<table border=\"1\" class=\"dataframe\">\n",
       "  <thead>\n",
       "    <tr style=\"text-align: right;\">\n",
       "      <th></th>\n",
       "      <th>molecule_chembl_id</th>\n",
       "      <th>parent_molecule_chembl_id</th>\n",
       "      <th>warning_class</th>\n",
       "      <th>warning_country</th>\n",
       "      <th>warning_description</th>\n",
       "      <th>warning_id</th>\n",
       "      <th>warning_refs</th>\n",
       "      <th>warning_type</th>\n",
       "      <th>warning_year</th>\n",
       "    </tr>\n",
       "  </thead>\n",
       "  <tbody>\n",
       "    <tr>\n",
       "      <th>0</th>\n",
       "      <td>CHEMBL2105740</td>\n",
       "      <td>CHEMBL282724</td>\n",
       "      <td>Hepatotoxicity</td>\n",
       "      <td>European Union</td>\n",
       "      <td>Liver toxicity</td>\n",
       "      <td>2049</td>\n",
       "      <td>[{'ref_id': 'Public_statement/2011/03/WC500102...</td>\n",
       "      <td>Withdrawn</td>\n",
       "      <td>2010</td>\n",
       "    </tr>\n",
       "    <tr>\n",
       "      <th>1</th>\n",
       "      <td>CHEMBL1341</td>\n",
       "      <td>CHEMBL1341</td>\n",
       "      <td>Hepatotoxicity</td>\n",
       "      <td>United States</td>\n",
       "      <td>Serious, irreversible, and even fatal nephroto...</td>\n",
       "      <td>2059</td>\n",
       "      <td>[{'ref_id': 'FR-2014-07-02/pdf/2014-15371.pdf'...</td>\n",
       "      <td>Withdrawn</td>\n",
       "      <td>2001</td>\n",
       "    </tr>\n",
       "    <tr>\n",
       "      <th>2</th>\n",
       "      <td>CHEMBL3183453</td>\n",
       "      <td>CHEMBL36506</td>\n",
       "      <td>Hepatotoxicity</td>\n",
       "      <td>United States</td>\n",
       "      <td>Relatively common skin reactions; Jaundice; He...</td>\n",
       "      <td>2069</td>\n",
       "      <td>[{'ref_id': 'FR-2014-07-02/pdf/2014-15371.pdf'...</td>\n",
       "      <td>Withdrawn</td>\n",
       "      <td>2009</td>\n",
       "    </tr>\n",
       "    <tr>\n",
       "      <th>3</th>\n",
       "      <td>CHEMBL1200498</td>\n",
       "      <td>CHEMBL1201197</td>\n",
       "      <td>Hepatotoxicity</td>\n",
       "      <td>European Union; United States</td>\n",
       "      <td>Liver toxicity; Serious liver injury leading t...</td>\n",
       "      <td>2070</td>\n",
       "      <td>[{'ref_id': 'public-statement-trovan/trovan-iv...</td>\n",
       "      <td>Withdrawn</td>\n",
       "      <td>2006</td>\n",
       "    </tr>\n",
       "    <tr>\n",
       "      <th>4</th>\n",
       "      <td>CHEMBL54349</td>\n",
       "      <td>CHEMBL54349</td>\n",
       "      <td>Hepatotoxicity</td>\n",
       "      <td>France</td>\n",
       "      <td>Hepatitis</td>\n",
       "      <td>2076</td>\n",
       "      <td>[{'ref_id': '10.1177/009286150103500134', 'ref...</td>\n",
       "      <td>Withdrawn</td>\n",
       "      <td>1993</td>\n",
       "    </tr>\n",
       "  </tbody>\n",
       "</table>\n",
       "</div>"
      ],
      "text/plain": [
       "  molecule_chembl_id parent_molecule_chembl_id   warning_class  \\\n",
       "0      CHEMBL2105740              CHEMBL282724  Hepatotoxicity   \n",
       "1         CHEMBL1341                CHEMBL1341  Hepatotoxicity   \n",
       "2      CHEMBL3183453               CHEMBL36506  Hepatotoxicity   \n",
       "3      CHEMBL1200498             CHEMBL1201197  Hepatotoxicity   \n",
       "4        CHEMBL54349               CHEMBL54349  Hepatotoxicity   \n",
       "\n",
       "                 warning_country  \\\n",
       "0                 European Union   \n",
       "1                  United States   \n",
       "2                  United States   \n",
       "3  European Union; United States   \n",
       "4                         France   \n",
       "\n",
       "                                 warning_description  warning_id  \\\n",
       "0                                     Liver toxicity        2049   \n",
       "1  Serious, irreversible, and even fatal nephroto...        2059   \n",
       "2  Relatively common skin reactions; Jaundice; He...        2069   \n",
       "3  Liver toxicity; Serious liver injury leading t...        2070   \n",
       "4                                          Hepatitis        2076   \n",
       "\n",
       "                                        warning_refs warning_type  \\\n",
       "0  [{'ref_id': 'Public_statement/2011/03/WC500102...    Withdrawn   \n",
       "1  [{'ref_id': 'FR-2014-07-02/pdf/2014-15371.pdf'...    Withdrawn   \n",
       "2  [{'ref_id': 'FR-2014-07-02/pdf/2014-15371.pdf'...    Withdrawn   \n",
       "3  [{'ref_id': 'public-statement-trovan/trovan-iv...    Withdrawn   \n",
       "4  [{'ref_id': '10.1177/009286150103500134', 'ref...    Withdrawn   \n",
       "\n",
       "   warning_year  \n",
       "0          2010  \n",
       "1          2001  \n",
       "2          2009  \n",
       "3          2006  \n",
       "4          1993  "
      ]
     },
     "execution_count": 19,
     "metadata": {},
     "output_type": "execute_result"
    }
   ],
   "source": [
    "from chembl_webresource_client.new_client import new_client\n",
    "import pandas as pd #Use pandas python module to view data as tables\n",
    "\n",
    "drug_warning = new_client.drug_warning\n",
    "res = drug_warning.filter(warning_type='Withdrawn', warning_class='Hepatotoxicity')\n",
    "res = pd.DataFrame(res)\n",
    "res.head() #Display top five rows only"
   ]
  },
  {
   "cell_type": "markdown",
   "metadata": {},
   "source": [
    "## Find FDA drugs that carry a black box warning for cardiotoxicity"
   ]
  },
  {
   "cell_type": "code",
   "execution_count": 20,
   "metadata": {},
   "outputs": [
    {
     "data": {
      "text/html": [
       "<div>\n",
       "<style scoped>\n",
       "    .dataframe tbody tr th:only-of-type {\n",
       "        vertical-align: middle;\n",
       "    }\n",
       "\n",
       "    .dataframe tbody tr th {\n",
       "        vertical-align: top;\n",
       "    }\n",
       "\n",
       "    .dataframe thead th {\n",
       "        text-align: right;\n",
       "    }\n",
       "</style>\n",
       "<table border=\"1\" class=\"dataframe\">\n",
       "  <thead>\n",
       "    <tr style=\"text-align: right;\">\n",
       "      <th></th>\n",
       "      <th>molecule_chembl_id</th>\n",
       "      <th>parent_molecule_chembl_id</th>\n",
       "      <th>warning_class</th>\n",
       "      <th>warning_country</th>\n",
       "      <th>warning_description</th>\n",
       "      <th>warning_id</th>\n",
       "      <th>warning_refs</th>\n",
       "      <th>warning_type</th>\n",
       "      <th>warning_year</th>\n",
       "    </tr>\n",
       "  </thead>\n",
       "  <tbody>\n",
       "    <tr>\n",
       "      <th>0</th>\n",
       "      <td>CHEMBL270190</td>\n",
       "      <td>CHEMBL270190</td>\n",
       "      <td>Cardiotoxicity</td>\n",
       "      <td>United States</td>\n",
       "      <td>None</td>\n",
       "      <td>81</td>\n",
       "      <td>[{'ref_id': '77a67dc6-35d3-48ff-9d18-292d4d442...</td>\n",
       "      <td>Black Box Warning</td>\n",
       "      <td>None</td>\n",
       "    </tr>\n",
       "    <tr>\n",
       "      <th>1</th>\n",
       "      <td>CHEMBL1083993</td>\n",
       "      <td>CHEMBL633</td>\n",
       "      <td>Cardiotoxicity</td>\n",
       "      <td>United States</td>\n",
       "      <td>None</td>\n",
       "      <td>98</td>\n",
       "      <td>[{'ref_id': '730039c2-0a32-4775-855d-98b2207e9...</td>\n",
       "      <td>Black Box Warning</td>\n",
       "      <td>None</td>\n",
       "    </tr>\n",
       "    <tr>\n",
       "      <th>2</th>\n",
       "      <td>CHEMBL501</td>\n",
       "      <td>CHEMBL405</td>\n",
       "      <td>Cardiotoxicity</td>\n",
       "      <td>United States</td>\n",
       "      <td>None</td>\n",
       "      <td>109</td>\n",
       "      <td>[{'ref_id': 'f469fb38-0380-4621-9db3-a4f429126...</td>\n",
       "      <td>Black Box Warning</td>\n",
       "      <td>None</td>\n",
       "    </tr>\n",
       "    <tr>\n",
       "      <th>3</th>\n",
       "      <td>CHEMBL2362016</td>\n",
       "      <td>CHEMBL2362016</td>\n",
       "      <td>Cardiotoxicity</td>\n",
       "      <td>United States</td>\n",
       "      <td>None</td>\n",
       "      <td>135</td>\n",
       "      <td>[{'ref_id': 'a482eccd-8837-47ea-904d-2f2c294d1...</td>\n",
       "      <td>Black Box Warning</td>\n",
       "      <td>None</td>\n",
       "    </tr>\n",
       "    <tr>\n",
       "      <th>4</th>\n",
       "      <td>CHEMBL24</td>\n",
       "      <td>CHEMBL24</td>\n",
       "      <td>Cardiotoxicity</td>\n",
       "      <td>United States</td>\n",
       "      <td>None</td>\n",
       "      <td>145</td>\n",
       "      <td>[{'ref_id': '06c0a04f-a77e-4871-9bb4-13abe2cbb...</td>\n",
       "      <td>Black Box Warning</td>\n",
       "      <td>None</td>\n",
       "    </tr>\n",
       "    <tr>\n",
       "      <th>...</th>\n",
       "      <td>...</td>\n",
       "      <td>...</td>\n",
       "      <td>...</td>\n",
       "      <td>...</td>\n",
       "      <td>...</td>\n",
       "      <td>...</td>\n",
       "      <td>...</td>\n",
       "      <td>...</td>\n",
       "      <td>...</td>\n",
       "    </tr>\n",
       "    <tr>\n",
       "      <th>87</th>\n",
       "      <td>CHEMBL1201132</td>\n",
       "      <td>CHEMBL895</td>\n",
       "      <td>Cardiotoxicity</td>\n",
       "      <td>United States</td>\n",
       "      <td>None</td>\n",
       "      <td>2615</td>\n",
       "      <td>[{'ref_id': '96128b54-24d6-88a3-e053-2a95a90a1...</td>\n",
       "      <td>Black Box Warning</td>\n",
       "      <td>None</td>\n",
       "    </tr>\n",
       "    <tr>\n",
       "      <th>88</th>\n",
       "      <td>CHEMBL1200890</td>\n",
       "      <td>CHEMBL656</td>\n",
       "      <td>Cardiotoxicity</td>\n",
       "      <td>United States</td>\n",
       "      <td>None</td>\n",
       "      <td>2646</td>\n",
       "      <td>[{'ref_id': '1c674d3e-c80a-47a5-a3ea-e76bb4f53...</td>\n",
       "      <td>Black Box Warning</td>\n",
       "      <td>None</td>\n",
       "    </tr>\n",
       "    <tr>\n",
       "      <th>89</th>\n",
       "      <td>CHEMBL2007641</td>\n",
       "      <td>CHEMBL2007641</td>\n",
       "      <td>Cardiotoxicity</td>\n",
       "      <td>United States</td>\n",
       "      <td>None</td>\n",
       "      <td>2659</td>\n",
       "      <td>[{'ref_id': '17f85d17-ab71-4f5b-9fe3-0b8c822f6...</td>\n",
       "      <td>Black Box Warning</td>\n",
       "      <td>None</td>\n",
       "    </tr>\n",
       "    <tr>\n",
       "      <th>90</th>\n",
       "      <td>CHEMBL2107874</td>\n",
       "      <td>CHEMBL2107874</td>\n",
       "      <td>Cardiotoxicity</td>\n",
       "      <td>United States</td>\n",
       "      <td>None</td>\n",
       "      <td>2711</td>\n",
       "      <td>[{'ref_id': '471baba2-7154-4488-9891-0db2f4679...</td>\n",
       "      <td>Black Box Warning</td>\n",
       "      <td>None</td>\n",
       "    </tr>\n",
       "    <tr>\n",
       "      <th>91</th>\n",
       "      <td>CHEMBL2107067</td>\n",
       "      <td>CHEMBL2107067</td>\n",
       "      <td>Cardiotoxicity</td>\n",
       "      <td>United States</td>\n",
       "      <td>None</td>\n",
       "      <td>2767</td>\n",
       "      <td>[{'ref_id': 'ed7b5d41-7475-4c10-99b9-b62b3434a...</td>\n",
       "      <td>Black Box Warning</td>\n",
       "      <td>None</td>\n",
       "    </tr>\n",
       "  </tbody>\n",
       "</table>\n",
       "<p>92 rows × 9 columns</p>\n",
       "</div>"
      ],
      "text/plain": [
       "   molecule_chembl_id parent_molecule_chembl_id   warning_class  \\\n",
       "0        CHEMBL270190              CHEMBL270190  Cardiotoxicity   \n",
       "1       CHEMBL1083993                 CHEMBL633  Cardiotoxicity   \n",
       "2           CHEMBL501                 CHEMBL405  Cardiotoxicity   \n",
       "3       CHEMBL2362016             CHEMBL2362016  Cardiotoxicity   \n",
       "4            CHEMBL24                  CHEMBL24  Cardiotoxicity   \n",
       "..                ...                       ...             ...   \n",
       "87      CHEMBL1201132                 CHEMBL895  Cardiotoxicity   \n",
       "88      CHEMBL1200890                 CHEMBL656  Cardiotoxicity   \n",
       "89      CHEMBL2007641             CHEMBL2007641  Cardiotoxicity   \n",
       "90      CHEMBL2107874             CHEMBL2107874  Cardiotoxicity   \n",
       "91      CHEMBL2107067             CHEMBL2107067  Cardiotoxicity   \n",
       "\n",
       "   warning_country warning_description  warning_id  \\\n",
       "0    United States                None          81   \n",
       "1    United States                None          98   \n",
       "2    United States                None         109   \n",
       "3    United States                None         135   \n",
       "4    United States                None         145   \n",
       "..             ...                 ...         ...   \n",
       "87   United States                None        2615   \n",
       "88   United States                None        2646   \n",
       "89   United States                None        2659   \n",
       "90   United States                None        2711   \n",
       "91   United States                None        2767   \n",
       "\n",
       "                                         warning_refs       warning_type  \\\n",
       "0   [{'ref_id': '77a67dc6-35d3-48ff-9d18-292d4d442...  Black Box Warning   \n",
       "1   [{'ref_id': '730039c2-0a32-4775-855d-98b2207e9...  Black Box Warning   \n",
       "2   [{'ref_id': 'f469fb38-0380-4621-9db3-a4f429126...  Black Box Warning   \n",
       "3   [{'ref_id': 'a482eccd-8837-47ea-904d-2f2c294d1...  Black Box Warning   \n",
       "4   [{'ref_id': '06c0a04f-a77e-4871-9bb4-13abe2cbb...  Black Box Warning   \n",
       "..                                                ...                ...   \n",
       "87  [{'ref_id': '96128b54-24d6-88a3-e053-2a95a90a1...  Black Box Warning   \n",
       "88  [{'ref_id': '1c674d3e-c80a-47a5-a3ea-e76bb4f53...  Black Box Warning   \n",
       "89  [{'ref_id': '17f85d17-ab71-4f5b-9fe3-0b8c822f6...  Black Box Warning   \n",
       "90  [{'ref_id': '471baba2-7154-4488-9891-0db2f4679...  Black Box Warning   \n",
       "91  [{'ref_id': 'ed7b5d41-7475-4c10-99b9-b62b3434a...  Black Box Warning   \n",
       "\n",
       "   warning_year  \n",
       "0          None  \n",
       "1          None  \n",
       "2          None  \n",
       "3          None  \n",
       "4          None  \n",
       "..          ...  \n",
       "87         None  \n",
       "88         None  \n",
       "89         None  \n",
       "90         None  \n",
       "91         None  \n",
       "\n",
       "[92 rows x 9 columns]"
      ]
     },
     "execution_count": 20,
     "metadata": {},
     "output_type": "execute_result"
    }
   ],
   "source": [
    "from chembl_webresource_client.new_client import new_client\n",
    "import pandas as pd #Use pandas python module to view data as tables\n",
    "\n",
    "drug_warning = new_client.drug_warning\n",
    "res = drug_warning.filter(warning_class__icontains='cardio', warning_type='Black Box Warning')\n",
    "res = pd.DataFrame(res)\n",
    "res"
   ]
  },
  {
   "cell_type": "markdown",
   "metadata": {},
   "source": [
    "# 3. Targets<a name=\"section3\"></a>"
   ]
  },
  {
   "cell_type": "markdown",
   "metadata": {},
   "source": [
    "## Find a target by gene name"
   ]
  },
  {
   "cell_type": "code",
   "execution_count": 21,
   "metadata": {},
   "outputs": [
    {
     "name": "stdout",
     "output_type": "stream",
     "text": [
      "{'organism': 'Homo sapiens', 'pref_name': 'Bromodomain-containing protein 4', 'target_type': 'SINGLE PROTEIN'}\n",
      "{'organism': 'Mus musculus', 'pref_name': 'Bromodomain-containing protein 4', 'target_type': 'SINGLE PROTEIN'}\n",
      "{'organism': 'Homo sapiens', 'pref_name': 'BRD4/HDAC1', 'target_type': 'PROTEIN COMPLEX'}\n",
      "{'organism': 'Homo sapiens', 'pref_name': 'Cereblon/Cullin-4A/Bromodomain-containing protein 4', 'target_type': 'PROTEIN-PROTEIN INTERACTION'}\n",
      "{'organism': 'Homo sapiens', 'pref_name': 'Cereblon/Bromodomain-containing protein 4', 'target_type': 'PROTEIN-PROTEIN INTERACTION'}\n",
      "{'organism': 'Homo sapiens', 'pref_name': 'von Hippel-Lindau disease tumor suppressor/Bromodomain-containing protein 4', 'target_type': 'PROTEIN-PROTEIN INTERACTION'}\n",
      "{'organism': 'Homo sapiens', 'pref_name': 'Cereblon/DNA damage-binding protein 1/Bromodomain-containing protein 4', 'target_type': 'PROTEIN-PROTEIN INTERACTION'}\n",
      "{'organism': 'Homo sapiens', 'pref_name': 'von Hippel-Lindau disease tumor suppressor/Elongin-B/Elongin-C/Bromodomain-containing protein 4', 'target_type': 'PROTEIN-PROTEIN INTERACTION'}\n",
      "{'organism': 'Homo sapiens', 'pref_name': 'Bromodomain and extra-terminal motif (BET)', 'target_type': 'PROTEIN FAMILY'}\n",
      "{'organism': 'Homo sapiens', 'pref_name': 'BRD4/E3 ubiquitin-protein ligase Mdm2', 'target_type': 'PROTEIN-PROTEIN INTERACTION'}\n",
      "{'organism': 'Homo sapiens', 'pref_name': 'BRD4/E3 ubiquitin-protein ligase XIAP', 'target_type': 'PROTEIN-PROTEIN INTERACTION'}\n"
     ]
    }
   ],
   "source": [
    "from chembl_webresource_client.new_client import new_client\n",
    "\n",
    "target = new_client.target\n",
    "gene_name = 'BRD4'\n",
    "res = target.filter(target_synonym__icontains=gene_name).only(['organism', 'pref_name', 'target_type'])\n",
    "for i in res:\n",
    "    print(i)"
   ]
  },
  {
   "cell_type": "markdown",
   "metadata": {},
   "source": [
    "## Find a protein target using its Uniprot_id"
   ]
  },
  {
   "cell_type": "code",
   "execution_count": 22,
   "metadata": {},
   "outputs": [
    {
     "data": {
      "text/html": [
       "<div>\n",
       "<style scoped>\n",
       "    .dataframe tbody tr th:only-of-type {\n",
       "        vertical-align: middle;\n",
       "    }\n",
       "\n",
       "    .dataframe tbody tr th {\n",
       "        vertical-align: top;\n",
       "    }\n",
       "\n",
       "    .dataframe thead th {\n",
       "        text-align: right;\n",
       "    }\n",
       "</style>\n",
       "<table border=\"1\" class=\"dataframe\">\n",
       "  <thead>\n",
       "    <tr style=\"text-align: right;\">\n",
       "      <th></th>\n",
       "      <th>cross_references</th>\n",
       "      <th>organism</th>\n",
       "      <th>pref_name</th>\n",
       "      <th>species_group_flag</th>\n",
       "      <th>target_chembl_id</th>\n",
       "      <th>target_components</th>\n",
       "      <th>target_type</th>\n",
       "      <th>tax_id</th>\n",
       "    </tr>\n",
       "  </thead>\n",
       "  <tbody>\n",
       "    <tr>\n",
       "      <th>0</th>\n",
       "      <td>[{'xref_id': 'FLT4', 'xref_name': None, 'xref_...</td>\n",
       "      <td>Homo sapiens</td>\n",
       "      <td>Vascular endothelial growth factor receptor 3</td>\n",
       "      <td>False</td>\n",
       "      <td>CHEMBL1955</td>\n",
       "      <td>[{'accession': 'P35916', 'component_descriptio...</td>\n",
       "      <td>SINGLE PROTEIN</td>\n",
       "      <td>9606</td>\n",
       "    </tr>\n",
       "    <tr>\n",
       "      <th>1</th>\n",
       "      <td>[]</td>\n",
       "      <td>Homo sapiens</td>\n",
       "      <td>Vascular endothelial growth factor receptor</td>\n",
       "      <td>False</td>\n",
       "      <td>CHEMBL2095227</td>\n",
       "      <td>[{'accession': 'P17948', 'component_descriptio...</td>\n",
       "      <td>PROTEIN FAMILY</td>\n",
       "      <td>9606</td>\n",
       "    </tr>\n",
       "    <tr>\n",
       "      <th>2</th>\n",
       "      <td>[]</td>\n",
       "      <td>Homo sapiens</td>\n",
       "      <td>Vascular endothelial growth factor receptor 2 ...</td>\n",
       "      <td>False</td>\n",
       "      <td>CHEMBL2111409</td>\n",
       "      <td>[{'accession': 'P35916', 'component_descriptio...</td>\n",
       "      <td>SELECTIVITY GROUP</td>\n",
       "      <td>9606</td>\n",
       "    </tr>\n",
       "    <tr>\n",
       "      <th>3</th>\n",
       "      <td>[]</td>\n",
       "      <td>Homo sapiens</td>\n",
       "      <td>Focal adhesion kinase 1/vascular endothelial g...</td>\n",
       "      <td>False</td>\n",
       "      <td>CHEMBL3301389</td>\n",
       "      <td>[{'accession': 'P35916', 'component_descriptio...</td>\n",
       "      <td>PROTEIN-PROTEIN INTERACTION</td>\n",
       "      <td>9606</td>\n",
       "    </tr>\n",
       "  </tbody>\n",
       "</table>\n",
       "</div>"
      ],
      "text/plain": [
       "                                    cross_references      organism  \\\n",
       "0  [{'xref_id': 'FLT4', 'xref_name': None, 'xref_...  Homo sapiens   \n",
       "1                                                 []  Homo sapiens   \n",
       "2                                                 []  Homo sapiens   \n",
       "3                                                 []  Homo sapiens   \n",
       "\n",
       "                                           pref_name  species_group_flag  \\\n",
       "0      Vascular endothelial growth factor receptor 3               False   \n",
       "1        Vascular endothelial growth factor receptor               False   \n",
       "2  Vascular endothelial growth factor receptor 2 ...               False   \n",
       "3  Focal adhesion kinase 1/vascular endothelial g...               False   \n",
       "\n",
       "  target_chembl_id                                  target_components  \\\n",
       "0       CHEMBL1955  [{'accession': 'P35916', 'component_descriptio...   \n",
       "1    CHEMBL2095227  [{'accession': 'P17948', 'component_descriptio...   \n",
       "2    CHEMBL2111409  [{'accession': 'P35916', 'component_descriptio...   \n",
       "3    CHEMBL3301389  [{'accession': 'P35916', 'component_descriptio...   \n",
       "\n",
       "                   target_type  tax_id  \n",
       "0               SINGLE PROTEIN    9606  \n",
       "1               PROTEIN FAMILY    9606  \n",
       "2            SELECTIVITY GROUP    9606  \n",
       "3  PROTEIN-PROTEIN INTERACTION    9606  "
      ]
     },
     "execution_count": 22,
     "metadata": {},
     "output_type": "execute_result"
    }
   ],
   "source": [
    "from chembl_webresource_client.new_client import new_client\n",
    "\n",
    "target = new_client.target\n",
    "uniprot_id = 'P35916' #Vascular endothelial growth factor receptor 3; Uniprot accession P35916\n",
    "res = target.filter(target_components__accession=uniprot_id)\n",
    "\n",
    "res = pd.DataFrame(res)\n",
    "res"
   ]
  },
  {
   "cell_type": "markdown",
   "metadata": {},
   "source": [
    "## Which species have available data in ChEMBL for cannabinoid receptor target(s)? What target types are they?"
   ]
  },
  {
   "cell_type": "code",
   "execution_count": 23,
   "metadata": {},
   "outputs": [
    {
     "data": {
      "text/html": [
       "<div>\n",
       "<style scoped>\n",
       "    .dataframe tbody tr th:only-of-type {\n",
       "        vertical-align: middle;\n",
       "    }\n",
       "\n",
       "    .dataframe tbody tr th {\n",
       "        vertical-align: top;\n",
       "    }\n",
       "\n",
       "    .dataframe thead th {\n",
       "        text-align: right;\n",
       "    }\n",
       "</style>\n",
       "<table border=\"1\" class=\"dataframe\">\n",
       "  <thead>\n",
       "    <tr style=\"text-align: right;\">\n",
       "      <th></th>\n",
       "      <th>organism</th>\n",
       "      <th>pref_name</th>\n",
       "      <th>target_chembl_id</th>\n",
       "      <th>target_type</th>\n",
       "    </tr>\n",
       "  </thead>\n",
       "  <tbody>\n",
       "    <tr>\n",
       "      <th>0</th>\n",
       "      <td>Homo sapiens</td>\n",
       "      <td>Cannabinoid CB1 receptor</td>\n",
       "      <td>CHEMBL218</td>\n",
       "      <td>SINGLE PROTEIN</td>\n",
       "    </tr>\n",
       "    <tr>\n",
       "      <th>1</th>\n",
       "      <td>Mus musculus</td>\n",
       "      <td>Cannabinoid CB1 receptor</td>\n",
       "      <td>CHEMBL3037</td>\n",
       "      <td>SINGLE PROTEIN</td>\n",
       "    </tr>\n",
       "    <tr>\n",
       "      <th>2</th>\n",
       "      <td>Rattus norvegicus</td>\n",
       "      <td>Cannabinoid CB1 receptor</td>\n",
       "      <td>CHEMBL3571</td>\n",
       "      <td>SINGLE PROTEIN</td>\n",
       "    </tr>\n",
       "    <tr>\n",
       "      <th>3</th>\n",
       "      <td>Homo sapiens</td>\n",
       "      <td>Cannabinoid CB1 receptor/orexin receptor 1 com...</td>\n",
       "      <td>CHEMBL3301387</td>\n",
       "      <td>PROTEIN COMPLEX</td>\n",
       "    </tr>\n",
       "    <tr>\n",
       "      <th>4</th>\n",
       "      <td>Homo sapiens</td>\n",
       "      <td>Cannabinoid CB2 receptor</td>\n",
       "      <td>CHEMBL253</td>\n",
       "      <td>SINGLE PROTEIN</td>\n",
       "    </tr>\n",
       "    <tr>\n",
       "      <th>5</th>\n",
       "      <td>Mus musculus</td>\n",
       "      <td>Cannabinoid CB2 receptor</td>\n",
       "      <td>CHEMBL5373</td>\n",
       "      <td>SINGLE PROTEIN</td>\n",
       "    </tr>\n",
       "    <tr>\n",
       "      <th>6</th>\n",
       "      <td>Rattus norvegicus</td>\n",
       "      <td>Cannabinoid CB2 receptor</td>\n",
       "      <td>CHEMBL2470</td>\n",
       "      <td>SINGLE PROTEIN</td>\n",
       "    </tr>\n",
       "    <tr>\n",
       "      <th>7</th>\n",
       "      <td>Homo sapiens</td>\n",
       "      <td>Cannabinoid receptor</td>\n",
       "      <td>CHEMBL2096981</td>\n",
       "      <td>PROTEIN FAMILY</td>\n",
       "    </tr>\n",
       "    <tr>\n",
       "      <th>8</th>\n",
       "      <td>Mus musculus</td>\n",
       "      <td>Cannabinoid receptor</td>\n",
       "      <td>CHEMBL2111415</td>\n",
       "      <td>PROTEIN FAMILY</td>\n",
       "    </tr>\n",
       "    <tr>\n",
       "      <th>9</th>\n",
       "      <td>Rattus norvegicus</td>\n",
       "      <td>Cannabinoid receptor</td>\n",
       "      <td>CHEMBL2111385</td>\n",
       "      <td>PROTEIN FAMILY</td>\n",
       "    </tr>\n",
       "    <tr>\n",
       "      <th>10</th>\n",
       "      <td>Homo sapiens</td>\n",
       "      <td>Cannabinoid receptor 1/Mu-type opioid receptor</td>\n",
       "      <td>CHEMBL3885538</td>\n",
       "      <td>PROTEIN COMPLEX</td>\n",
       "    </tr>\n",
       "  </tbody>\n",
       "</table>\n",
       "</div>"
      ],
      "text/plain": [
       "             organism                                          pref_name  \\\n",
       "0        Homo sapiens                           Cannabinoid CB1 receptor   \n",
       "1        Mus musculus                           Cannabinoid CB1 receptor   \n",
       "2   Rattus norvegicus                           Cannabinoid CB1 receptor   \n",
       "3        Homo sapiens  Cannabinoid CB1 receptor/orexin receptor 1 com...   \n",
       "4        Homo sapiens                           Cannabinoid CB2 receptor   \n",
       "5        Mus musculus                           Cannabinoid CB2 receptor   \n",
       "6   Rattus norvegicus                           Cannabinoid CB2 receptor   \n",
       "7        Homo sapiens                               Cannabinoid receptor   \n",
       "8        Mus musculus                               Cannabinoid receptor   \n",
       "9   Rattus norvegicus                               Cannabinoid receptor   \n",
       "10       Homo sapiens     Cannabinoid receptor 1/Mu-type opioid receptor   \n",
       "\n",
       "   target_chembl_id      target_type  \n",
       "0         CHEMBL218   SINGLE PROTEIN  \n",
       "1        CHEMBL3037   SINGLE PROTEIN  \n",
       "2        CHEMBL3571   SINGLE PROTEIN  \n",
       "3     CHEMBL3301387  PROTEIN COMPLEX  \n",
       "4         CHEMBL253   SINGLE PROTEIN  \n",
       "5        CHEMBL5373   SINGLE PROTEIN  \n",
       "6        CHEMBL2470   SINGLE PROTEIN  \n",
       "7     CHEMBL2096981   PROTEIN FAMILY  \n",
       "8     CHEMBL2111415   PROTEIN FAMILY  \n",
       "9     CHEMBL2111385   PROTEIN FAMILY  \n",
       "10    CHEMBL3885538  PROTEIN COMPLEX  "
      ]
     },
     "execution_count": 23,
     "metadata": {},
     "output_type": "execute_result"
    }
   ],
   "source": [
    "from chembl_webresource_client.new_client import new_client\n",
    "import pandas as pd #Use pandas python module to view data as tables\n",
    "\n",
    "target = new_client.target\n",
    "protein_name = 'cannabinoid' \n",
    "res = target.filter(pref_name__icontains=protein_name).only(['organism','pref_name','target_chembl_id','target_type']).order_by(['pref_name','organism'])\n",
    "\n",
    "pd.DataFrame(res)"
   ]
  },
  {
   "cell_type": "markdown",
   "metadata": {},
   "source": [
    "## What does the protein classification look like for chemokine receptor targets?"
   ]
  },
  {
   "cell_type": "code",
   "execution_count": 24,
   "metadata": {},
   "outputs": [
    {
     "data": {
      "text/html": [
       "<div>\n",
       "<style scoped>\n",
       "    .dataframe tbody tr th:only-of-type {\n",
       "        vertical-align: middle;\n",
       "    }\n",
       "\n",
       "    .dataframe tbody tr th {\n",
       "        vertical-align: top;\n",
       "    }\n",
       "\n",
       "    .dataframe thead th {\n",
       "        text-align: right;\n",
       "    }\n",
       "</style>\n",
       "<table border=\"1\" class=\"dataframe\">\n",
       "  <thead>\n",
       "    <tr style=\"text-align: right;\">\n",
       "      <th></th>\n",
       "      <th>l1</th>\n",
       "      <th>l2</th>\n",
       "      <th>l3</th>\n",
       "      <th>l4</th>\n",
       "      <th>l5</th>\n",
       "      <th>l6</th>\n",
       "      <th>l7</th>\n",
       "      <th>l8</th>\n",
       "      <th>protein_class_id</th>\n",
       "    </tr>\n",
       "  </thead>\n",
       "  <tbody>\n",
       "    <tr>\n",
       "      <th>0</th>\n",
       "      <td>Membrane receptor</td>\n",
       "      <td>Family A G protein-coupled receptor</td>\n",
       "      <td>Peptide receptor (family A GPCR)</td>\n",
       "      <td>Chemokine receptor</td>\n",
       "      <td>CC chemokine receptor</td>\n",
       "      <td>None</td>\n",
       "      <td>None</td>\n",
       "      <td>None</td>\n",
       "      <td>547</td>\n",
       "    </tr>\n",
       "    <tr>\n",
       "      <th>1</th>\n",
       "      <td>Membrane receptor</td>\n",
       "      <td>Family A G protein-coupled receptor</td>\n",
       "      <td>Peptide receptor (family A GPCR)</td>\n",
       "      <td>Chemokine receptor</td>\n",
       "      <td>XC chemokine receptor</td>\n",
       "      <td>None</td>\n",
       "      <td>None</td>\n",
       "      <td>None</td>\n",
       "      <td>548</td>\n",
       "    </tr>\n",
       "    <tr>\n",
       "      <th>2</th>\n",
       "      <td>Membrane receptor</td>\n",
       "      <td>Family A G protein-coupled receptor</td>\n",
       "      <td>Peptide receptor (family A GPCR)</td>\n",
       "      <td>Chemokine receptor</td>\n",
       "      <td>CXC chemokine receptor</td>\n",
       "      <td>None</td>\n",
       "      <td>None</td>\n",
       "      <td>None</td>\n",
       "      <td>554</td>\n",
       "    </tr>\n",
       "    <tr>\n",
       "      <th>3</th>\n",
       "      <td>Membrane receptor</td>\n",
       "      <td>Family A G protein-coupled receptor</td>\n",
       "      <td>Peptide receptor (family A GPCR)</td>\n",
       "      <td>Chemokine receptor-like</td>\n",
       "      <td>Chemerin receptor</td>\n",
       "      <td>None</td>\n",
       "      <td>None</td>\n",
       "      <td>None</td>\n",
       "      <td>555</td>\n",
       "    </tr>\n",
       "    <tr>\n",
       "      <th>4</th>\n",
       "      <td>Membrane receptor</td>\n",
       "      <td>Family A G protein-coupled receptor</td>\n",
       "      <td>Peptide receptor (family A GPCR)</td>\n",
       "      <td>Chemokine receptor</td>\n",
       "      <td>CX3C chemokine receptor</td>\n",
       "      <td>None</td>\n",
       "      <td>None</td>\n",
       "      <td>None</td>\n",
       "      <td>558</td>\n",
       "    </tr>\n",
       "    <tr>\n",
       "      <th>5</th>\n",
       "      <td>Membrane receptor</td>\n",
       "      <td>Family A G protein-coupled receptor</td>\n",
       "      <td>Peptide receptor (family A GPCR)</td>\n",
       "      <td>Chemokine receptor</td>\n",
       "      <td>None</td>\n",
       "      <td>None</td>\n",
       "      <td>None</td>\n",
       "      <td>None</td>\n",
       "      <td>1265</td>\n",
       "    </tr>\n",
       "    <tr>\n",
       "      <th>6</th>\n",
       "      <td>Membrane receptor</td>\n",
       "      <td>Family A G protein-coupled receptor</td>\n",
       "      <td>Peptide receptor (family A GPCR)</td>\n",
       "      <td>Chemokine receptor-like</td>\n",
       "      <td>None</td>\n",
       "      <td>None</td>\n",
       "      <td>None</td>\n",
       "      <td>None</td>\n",
       "      <td>1270</td>\n",
       "    </tr>\n",
       "  </tbody>\n",
       "</table>\n",
       "</div>"
      ],
      "text/plain": [
       "                  l1                                   l2  \\\n",
       "0  Membrane receptor  Family A G protein-coupled receptor   \n",
       "1  Membrane receptor  Family A G protein-coupled receptor   \n",
       "2  Membrane receptor  Family A G protein-coupled receptor   \n",
       "3  Membrane receptor  Family A G protein-coupled receptor   \n",
       "4  Membrane receptor  Family A G protein-coupled receptor   \n",
       "5  Membrane receptor  Family A G protein-coupled receptor   \n",
       "6  Membrane receptor  Family A G protein-coupled receptor   \n",
       "\n",
       "                                 l3                       l4  \\\n",
       "0  Peptide receptor (family A GPCR)       Chemokine receptor   \n",
       "1  Peptide receptor (family A GPCR)       Chemokine receptor   \n",
       "2  Peptide receptor (family A GPCR)       Chemokine receptor   \n",
       "3  Peptide receptor (family A GPCR)  Chemokine receptor-like   \n",
       "4  Peptide receptor (family A GPCR)       Chemokine receptor   \n",
       "5  Peptide receptor (family A GPCR)       Chemokine receptor   \n",
       "6  Peptide receptor (family A GPCR)  Chemokine receptor-like   \n",
       "\n",
       "                        l5    l6    l7    l8  protein_class_id  \n",
       "0    CC chemokine receptor  None  None  None               547  \n",
       "1    XC chemokine receptor  None  None  None               548  \n",
       "2   CXC chemokine receptor  None  None  None               554  \n",
       "3        Chemerin receptor  None  None  None               555  \n",
       "4  CX3C chemokine receptor  None  None  None               558  \n",
       "5                     None  None  None  None              1265  \n",
       "6                     None  None  None  None              1270  "
      ]
     },
     "execution_count": 24,
     "metadata": {},
     "output_type": "execute_result"
    }
   ],
   "source": [
    "from chembl_webresource_client.new_client import new_client\n",
    "import pandas as pd #Use pandas python module to view data as tables\n",
    "\n",
    "protein_class = new_client.protein_class\n",
    "res = protein_class.filter(l4__icontains='chemokine receptor')\n",
    "\n",
    "pd.DataFrame(res)"
   ]
  },
  {
   "cell_type": "markdown",
   "metadata": {},
   "source": [
    "# 4. Activities<a name=\"section4\"></a>\n",
    "- The `activitity` API endpoint provides bioactivity data for compounds that have been measured against target(s) in an assay"
   ]
  },
  {
   "cell_type": "markdown",
   "metadata": {},
   "source": [
    "## Get all IC50 activities related to the hERG target"
   ]
  },
  {
   "cell_type": "code",
   "execution_count": 25,
   "metadata": {},
   "outputs": [
    {
     "data": {
      "text/plain": [
       "13200"
      ]
     },
     "execution_count": 25,
     "metadata": {},
     "output_type": "execute_result"
    }
   ],
   "source": [
    "from chembl_webresource_client.new_client import new_client\n",
    "\n",
    "target = new_client.target\n",
    "activity = new_client.activity\n",
    "herg = target.filter(pref_name__iexact='hERG').only('target_chembl_id')[0]\n",
    "herg_activities = activity.filter(target_chembl_id=herg['target_chembl_id']).filter(standard_type=\"IC50\")\n",
    "\n",
    "len(herg_activities)"
   ]
  },
  {
   "cell_type": "markdown",
   "metadata": {},
   "source": [
    "## Get all activities for a specific target with assay type B (binding):"
   ]
  },
  {
   "cell_type": "code",
   "execution_count": 26,
   "metadata": {},
   "outputs": [
    {
     "data": {
      "text/plain": [
       "860"
      ]
     },
     "execution_count": 26,
     "metadata": {},
     "output_type": "execute_result"
    }
   ],
   "source": [
    "from chembl_webresource_client.new_client import new_client\n",
    "\n",
    "activity = new_client.activity\n",
    "res = activity.filter(target_chembl_id='CHEMBL3938', assay_type='B')\n",
    "\n",
    "len(res)"
   ]
  },
  {
   "cell_type": "markdown",
   "metadata": {},
   "source": [
    "## Get all activities with a pChEMBL value for Aspirin"
   ]
  },
  {
   "cell_type": "code",
   "execution_count": 27,
   "metadata": {},
   "outputs": [
    {
     "data": {
      "text/plain": [
       "138"
      ]
     },
     "execution_count": 27,
     "metadata": {},
     "output_type": "execute_result"
    }
   ],
   "source": [
    "from chembl_webresource_client.new_client import new_client\n",
    "\n",
    "activities = new_client.activity\n",
    "res = activities.filter(molecule_chembl_id=\"CHEMBL25\", pchembl_value__isnull=False)\n",
    "\n",
    "len(res)"
   ]
  },
  {
   "cell_type": "markdown",
   "metadata": {},
   "source": [
    "# 5. Assays<a name=\"section5\"></a>"
   ]
  },
  {
   "cell_type": "markdown",
   "metadata": {},
   "source": [
    "## Search for ADMET-related inhibitor assays (assay_type A) measured in Rat"
   ]
  },
  {
   "cell_type": "code",
   "execution_count": 28,
   "metadata": {},
   "outputs": [
    {
     "data": {
      "text/html": [
       "<div>\n",
       "<style scoped>\n",
       "    .dataframe tbody tr th:only-of-type {\n",
       "        vertical-align: middle;\n",
       "    }\n",
       "\n",
       "    .dataframe tbody tr th {\n",
       "        vertical-align: top;\n",
       "    }\n",
       "\n",
       "    .dataframe thead th {\n",
       "        text-align: right;\n",
       "    }\n",
       "</style>\n",
       "<table border=\"1\" class=\"dataframe\">\n",
       "  <thead>\n",
       "    <tr style=\"text-align: right;\">\n",
       "      <th></th>\n",
       "      <th>assay_chembl_id</th>\n",
       "      <th>assay_organism</th>\n",
       "      <th>description</th>\n",
       "    </tr>\n",
       "  </thead>\n",
       "  <tbody>\n",
       "    <tr>\n",
       "      <th>0</th>\n",
       "      <td>CHEMBL884521</td>\n",
       "      <td>Rattus norvegicus</td>\n",
       "      <td>Inhibition of cytochrome P450 progesterone 15-...</td>\n",
       "    </tr>\n",
       "    <tr>\n",
       "      <th>1</th>\n",
       "      <td>CHEMBL615148</td>\n",
       "      <td>Rattus norvegicus</td>\n",
       "      <td>Inhibition of cytochrome P450 progesterone 16-...</td>\n",
       "    </tr>\n",
       "    <tr>\n",
       "      <th>2</th>\n",
       "      <td>CHEMBL615199</td>\n",
       "      <td>Rattus norvegicus</td>\n",
       "      <td>Inhibition of cytochrome P450 progesterone 2-a...</td>\n",
       "    </tr>\n",
       "    <tr>\n",
       "      <th>3</th>\n",
       "      <td>CHEMBL883800</td>\n",
       "      <td>Rattus norvegicus</td>\n",
       "      <td>Inhibition of progesterone 6-beta-hydroxylase ...</td>\n",
       "    </tr>\n",
       "    <tr>\n",
       "      <th>4</th>\n",
       "      <td>CHEMBL618439</td>\n",
       "      <td>Rattus norvegicus</td>\n",
       "      <td>Inhibition of progesterone 6-beta-hydroxylase ...</td>\n",
       "    </tr>\n",
       "    <tr>\n",
       "      <th>...</th>\n",
       "      <td>...</td>\n",
       "      <td>...</td>\n",
       "      <td>...</td>\n",
       "    </tr>\n",
       "    <tr>\n",
       "      <th>582</th>\n",
       "      <td>CHEMBL4626205</td>\n",
       "      <td>Rattus norvegicus</td>\n",
       "      <td>Inhibition of rat adrenergic alpha1A receptor ...</td>\n",
       "    </tr>\n",
       "    <tr>\n",
       "      <th>583</th>\n",
       "      <td>CHEMBL4630381</td>\n",
       "      <td>Rattus norvegicus</td>\n",
       "      <td>Drug metabolism in selective CYP3A inhibitor K...</td>\n",
       "    </tr>\n",
       "    <tr>\n",
       "      <th>584</th>\n",
       "      <td>CHEMBL4630382</td>\n",
       "      <td>Rattus norvegicus</td>\n",
       "      <td>Drug metabolism in SULT inhibitor DCNP pre-tre...</td>\n",
       "    </tr>\n",
       "    <tr>\n",
       "      <th>585</th>\n",
       "      <td>CHEMBL4630392</td>\n",
       "      <td>Rattus norvegicus</td>\n",
       "      <td>Drug metabolism in selective CYP3A inhibitor K...</td>\n",
       "    </tr>\n",
       "    <tr>\n",
       "      <th>586</th>\n",
       "      <td>CHEMBL4630393</td>\n",
       "      <td>Rattus norvegicus</td>\n",
       "      <td>Drug metabolism in selective SULT inhibitor DC...</td>\n",
       "    </tr>\n",
       "  </tbody>\n",
       "</table>\n",
       "<p>587 rows × 3 columns</p>\n",
       "</div>"
      ],
      "text/plain": [
       "    assay_chembl_id     assay_organism  \\\n",
       "0      CHEMBL884521  Rattus norvegicus   \n",
       "1      CHEMBL615148  Rattus norvegicus   \n",
       "2      CHEMBL615199  Rattus norvegicus   \n",
       "3      CHEMBL883800  Rattus norvegicus   \n",
       "4      CHEMBL618439  Rattus norvegicus   \n",
       "..              ...                ...   \n",
       "582   CHEMBL4626205  Rattus norvegicus   \n",
       "583   CHEMBL4630381  Rattus norvegicus   \n",
       "584   CHEMBL4630382  Rattus norvegicus   \n",
       "585   CHEMBL4630392  Rattus norvegicus   \n",
       "586   CHEMBL4630393  Rattus norvegicus   \n",
       "\n",
       "                                           description  \n",
       "0    Inhibition of cytochrome P450 progesterone 15-...  \n",
       "1    Inhibition of cytochrome P450 progesterone 16-...  \n",
       "2    Inhibition of cytochrome P450 progesterone 2-a...  \n",
       "3    Inhibition of progesterone 6-beta-hydroxylase ...  \n",
       "4    Inhibition of progesterone 6-beta-hydroxylase ...  \n",
       "..                                                 ...  \n",
       "582  Inhibition of rat adrenergic alpha1A receptor ...  \n",
       "583  Drug metabolism in selective CYP3A inhibitor K...  \n",
       "584  Drug metabolism in SULT inhibitor DCNP pre-tre...  \n",
       "585  Drug metabolism in selective CYP3A inhibitor K...  \n",
       "586  Drug metabolism in selective SULT inhibitor DC...  \n",
       "\n",
       "[587 rows x 3 columns]"
      ]
     },
     "execution_count": 28,
     "metadata": {},
     "output_type": "execute_result"
    }
   ],
   "source": [
    "from chembl_webresource_client.new_client import new_client\n",
    "import pandas as pd #Use pandas python module to view data as tables\n",
    "\n",
    "assay = new_client.assay\n",
    "res = assay.filter(description__icontains='inhibit', assay_type='A', assay_organism='Rattus norvegicus').only(['assay_chembl_id','assay_organism','description'])\n",
    "pd.DataFrame(res)"
   ]
  },
  {
   "cell_type": "markdown",
   "metadata": {},
   "source": [
    "## Find assays that assess nephrotoxicity (kidney toxicity)\n",
    "- Note that nephrotoxic drugs could be searched for using the `drug_warning` API endpoint"
   ]
  },
  {
   "cell_type": "code",
   "execution_count": 29,
   "metadata": {},
   "outputs": [
    {
     "data": {
      "text/html": [
       "<div>\n",
       "<style scoped>\n",
       "    .dataframe tbody tr th:only-of-type {\n",
       "        vertical-align: middle;\n",
       "    }\n",
       "\n",
       "    .dataframe tbody tr th {\n",
       "        vertical-align: top;\n",
       "    }\n",
       "\n",
       "    .dataframe thead th {\n",
       "        text-align: right;\n",
       "    }\n",
       "</style>\n",
       "<table border=\"1\" class=\"dataframe\">\n",
       "  <thead>\n",
       "    <tr style=\"text-align: right;\">\n",
       "      <th></th>\n",
       "      <th>assay_chembl_id</th>\n",
       "      <th>assay_organism</th>\n",
       "      <th>description</th>\n",
       "    </tr>\n",
       "  </thead>\n",
       "  <tbody>\n",
       "    <tr>\n",
       "      <th>0</th>\n",
       "      <td>CHEMBL730330</td>\n",
       "      <td>Mus musculus</td>\n",
       "      <td>Nephrotoxicity upon intragastric administratio...</td>\n",
       "    </tr>\n",
       "    <tr>\n",
       "      <th>1</th>\n",
       "      <td>CHEMBL730331</td>\n",
       "      <td>Mus musculus</td>\n",
       "      <td>Nephrotoxicity upon intragastric administratio...</td>\n",
       "    </tr>\n",
       "    <tr>\n",
       "      <th>2</th>\n",
       "      <td>CHEMBL729614</td>\n",
       "      <td>Mus musculus</td>\n",
       "      <td>Nephrotoxicity upon intragastric administratio...</td>\n",
       "    </tr>\n",
       "    <tr>\n",
       "      <th>3</th>\n",
       "      <td>CHEMBL729615</td>\n",
       "      <td>Mus musculus</td>\n",
       "      <td>Nephrotoxicity upon intragastric administratio...</td>\n",
       "    </tr>\n",
       "    <tr>\n",
       "      <th>4</th>\n",
       "      <td>CHEMBL729616</td>\n",
       "      <td>Mus musculus</td>\n",
       "      <td>Nephrotoxicity upon intragastric administratio...</td>\n",
       "    </tr>\n",
       "    <tr>\n",
       "      <th>...</th>\n",
       "      <td>...</td>\n",
       "      <td>...</td>\n",
       "      <td>...</td>\n",
       "    </tr>\n",
       "    <tr>\n",
       "      <th>349</th>\n",
       "      <td>CHEMBL4422918</td>\n",
       "      <td>Mus musculus</td>\n",
       "      <td>Nephrotoxicity in C57BL/6 mouse assessed as ab...</td>\n",
       "    </tr>\n",
       "    <tr>\n",
       "      <th>350</th>\n",
       "      <td>CHEMBL4422919</td>\n",
       "      <td>Mus musculus</td>\n",
       "      <td>Nephrotoxicity in C57BL/6 mouse assessed as ti...</td>\n",
       "    </tr>\n",
       "    <tr>\n",
       "      <th>351</th>\n",
       "      <td>CHEMBL4480539</td>\n",
       "      <td>Rattus norvegicus</td>\n",
       "      <td>Renal toxicity in Wistar rat assessed as effec...</td>\n",
       "    </tr>\n",
       "    <tr>\n",
       "      <th>352</th>\n",
       "      <td>CHEMBL4623569</td>\n",
       "      <td>Homo sapiens</td>\n",
       "      <td>Nephrotoxicity in human patients assessed as p...</td>\n",
       "    </tr>\n",
       "    <tr>\n",
       "      <th>353</th>\n",
       "      <td>CHEMBL4626515</td>\n",
       "      <td>Mus musculus</td>\n",
       "      <td>Renal toxicity in C57BL/6 mouse assessed effec...</td>\n",
       "    </tr>\n",
       "  </tbody>\n",
       "</table>\n",
       "<p>354 rows × 3 columns</p>\n",
       "</div>"
      ],
      "text/plain": [
       "    assay_chembl_id     assay_organism  \\\n",
       "0      CHEMBL730330       Mus musculus   \n",
       "1      CHEMBL730331       Mus musculus   \n",
       "2      CHEMBL729614       Mus musculus   \n",
       "3      CHEMBL729615       Mus musculus   \n",
       "4      CHEMBL729616       Mus musculus   \n",
       "..              ...                ...   \n",
       "349   CHEMBL4422918       Mus musculus   \n",
       "350   CHEMBL4422919       Mus musculus   \n",
       "351   CHEMBL4480539  Rattus norvegicus   \n",
       "352   CHEMBL4623569       Homo sapiens   \n",
       "353   CHEMBL4626515       Mus musculus   \n",
       "\n",
       "                                           description  \n",
       "0    Nephrotoxicity upon intragastric administratio...  \n",
       "1    Nephrotoxicity upon intragastric administratio...  \n",
       "2    Nephrotoxicity upon intragastric administratio...  \n",
       "3    Nephrotoxicity upon intragastric administratio...  \n",
       "4    Nephrotoxicity upon intragastric administratio...  \n",
       "..                                                 ...  \n",
       "349  Nephrotoxicity in C57BL/6 mouse assessed as ab...  \n",
       "350  Nephrotoxicity in C57BL/6 mouse assessed as ti...  \n",
       "351  Renal toxicity in Wistar rat assessed as effec...  \n",
       "352  Nephrotoxicity in human patients assessed as p...  \n",
       "353  Renal toxicity in C57BL/6 mouse assessed effec...  \n",
       "\n",
       "[354 rows x 3 columns]"
      ]
     },
     "execution_count": 29,
     "metadata": {},
     "output_type": "execute_result"
    }
   ],
   "source": [
    "from chembl_webresource_client.new_client import new_client\n",
    "import pandas as pd #Use pandas python module to view data as tables\n",
    "\n",
    "assay = new_client.assay\n",
    "res = assay.filter(description__iregex='nephrotoxicity|renal toxicity').only(['assay_chembl_id','assay_organism','description'])\n",
    "pd.DataFrame(res)"
   ]
  },
  {
   "cell_type": "markdown",
   "metadata": {},
   "source": [
    "# Tissues<a name=\"section6\"></a>"
   ]
  },
  {
   "cell_type": "markdown",
   "metadata": {},
   "source": [
    "## Get tissue by Uberon id (UBERON is a cross-species anatomy ontology)"
   ]
  },
  {
   "cell_type": "code",
   "execution_count": 30,
   "metadata": {},
   "outputs": [
    {
     "data": {
      "text/plain": [
       "[{'bto_id': 'BTO:0000068', 'caloha_id': 'TS-0034', 'efo_id': None, 'pref_name': 'Amniotic fluid', 'tissue_chembl_id': 'CHEMBL3638177', 'uberon_id': 'UBERON:0000173'}]"
      ]
     },
     "execution_count": 30,
     "metadata": {},
     "output_type": "execute_result"
    }
   ],
   "source": [
    "from chembl_webresource_client.new_client import new_client\n",
    "\n",
    "tissue = new_client.tissue\n",
    "res = tissue.filter(uberon_id=\"UBERON:0000173\")\n",
    "res"
   ]
  },
  {
   "cell_type": "markdown",
   "metadata": {},
   "source": [
    "## Get tissue by name"
   ]
  },
  {
   "cell_type": "code",
   "execution_count": 31,
   "metadata": {},
   "outputs": [
    {
     "data": {
      "text/html": [
       "<div>\n",
       "<style scoped>\n",
       "    .dataframe tbody tr th:only-of-type {\n",
       "        vertical-align: middle;\n",
       "    }\n",
       "\n",
       "    .dataframe tbody tr th {\n",
       "        vertical-align: top;\n",
       "    }\n",
       "\n",
       "    .dataframe thead th {\n",
       "        text-align: right;\n",
       "    }\n",
       "</style>\n",
       "<table border=\"1\" class=\"dataframe\">\n",
       "  <thead>\n",
       "    <tr style=\"text-align: right;\">\n",
       "      <th></th>\n",
       "      <th>bto_id</th>\n",
       "      <th>caloha_id</th>\n",
       "      <th>efo_id</th>\n",
       "      <th>pref_name</th>\n",
       "      <th>tissue_chembl_id</th>\n",
       "      <th>uberon_id</th>\n",
       "    </tr>\n",
       "  </thead>\n",
       "  <tbody>\n",
       "    <tr>\n",
       "      <th>0</th>\n",
       "      <td>None</td>\n",
       "      <td>None</td>\n",
       "      <td>None</td>\n",
       "      <td>Blood brain barrier</td>\n",
       "      <td>CHEMBL3987461</td>\n",
       "      <td>UBERON:0000120</td>\n",
       "    </tr>\n",
       "    <tr>\n",
       "      <th>1</th>\n",
       "      <td>BTO:0000089</td>\n",
       "      <td>TS-0079</td>\n",
       "      <td>EFO:0000296</td>\n",
       "      <td>Blood</td>\n",
       "      <td>CHEMBL3638178</td>\n",
       "      <td>UBERON:0000178</td>\n",
       "    </tr>\n",
       "    <tr>\n",
       "      <th>2</th>\n",
       "      <td>BTO:0001102</td>\n",
       "      <td>TS-0080</td>\n",
       "      <td>EFO:0000817</td>\n",
       "      <td>Blood vessel</td>\n",
       "      <td>CHEMBL3987656</td>\n",
       "      <td>UBERON:0001981</td>\n",
       "    </tr>\n",
       "    <tr>\n",
       "      <th>3</th>\n",
       "      <td>BTO:0000102</td>\n",
       "      <td>None</td>\n",
       "      <td>None</td>\n",
       "      <td>Blood clot</td>\n",
       "      <td>CHEMBL3987655</td>\n",
       "      <td>UBERON:0010210</td>\n",
       "    </tr>\n",
       "    <tr>\n",
       "      <th>4</th>\n",
       "      <td>None</td>\n",
       "      <td>None</td>\n",
       "      <td>None</td>\n",
       "      <td>Blood/Brain</td>\n",
       "      <td>CHEMBL3832984</td>\n",
       "      <td>None</td>\n",
       "    </tr>\n",
       "  </tbody>\n",
       "</table>\n",
       "</div>"
      ],
      "text/plain": [
       "        bto_id caloha_id       efo_id            pref_name tissue_chembl_id  \\\n",
       "0         None      None         None  Blood brain barrier    CHEMBL3987461   \n",
       "1  BTO:0000089   TS-0079  EFO:0000296                Blood    CHEMBL3638178   \n",
       "2  BTO:0001102   TS-0080  EFO:0000817         Blood vessel    CHEMBL3987656   \n",
       "3  BTO:0000102      None         None           Blood clot    CHEMBL3987655   \n",
       "4         None      None         None          Blood/Brain    CHEMBL3832984   \n",
       "\n",
       "        uberon_id  \n",
       "0  UBERON:0000120  \n",
       "1  UBERON:0000178  \n",
       "2  UBERON:0001981  \n",
       "3  UBERON:0010210  \n",
       "4            None  "
      ]
     },
     "execution_count": 31,
     "metadata": {},
     "output_type": "execute_result"
    }
   ],
   "source": [
    "from chembl_webresource_client.new_client import new_client\n",
    "import pandas as pd #Use pandas python module to view data as tables\n",
    "\n",
    "tissue = new_client.tissue\n",
    "res = tissue.filter(pref_name__istartswith='blood')\n",
    "res = pd.DataFrame(res)\n",
    "res.head() #Display top five rows"
   ]
  },
  {
   "cell_type": "markdown",
   "metadata": {},
   "source": [
    "## Get tissue by BTO ID (Brenda Tissue Ontology)"
   ]
  },
  {
   "cell_type": "code",
   "execution_count": 32,
   "metadata": {},
   "outputs": [
    {
     "data": {
      "text/plain": [
       "[{'bto_id': 'BTO:0001073', 'caloha_id': 'TS-0798', 'efo_id': 'EFO:0000857', 'pref_name': 'Pituitary gland', 'tissue_chembl_id': 'CHEMBL3638173', 'uberon_id': 'UBERON:0000007'}]"
      ]
     },
     "execution_count": 32,
     "metadata": {},
     "output_type": "execute_result"
    }
   ],
   "source": [
    "from chembl_webresource_client.new_client import new_client\n",
    "\n",
    "tissue = new_client.tissue\n",
    "res = tissue.filter(bto_id=\"BTO:0001073\")\n",
    "res"
   ]
  },
  {
   "cell_type": "markdown",
   "metadata": {},
   "source": [
    "## Get tissue by EFO id (Experimental Factor Ontology)"
   ]
  },
  {
   "cell_type": "code",
   "execution_count": 33,
   "metadata": {},
   "outputs": [
    {
     "data": {
      "text/html": [
       "<div>\n",
       "<style scoped>\n",
       "    .dataframe tbody tr th:only-of-type {\n",
       "        vertical-align: middle;\n",
       "    }\n",
       "\n",
       "    .dataframe tbody tr th {\n",
       "        vertical-align: top;\n",
       "    }\n",
       "\n",
       "    .dataframe thead th {\n",
       "        text-align: right;\n",
       "    }\n",
       "</style>\n",
       "<table border=\"1\" class=\"dataframe\">\n",
       "  <thead>\n",
       "    <tr style=\"text-align: right;\">\n",
       "      <th></th>\n",
       "      <th>bto_id</th>\n",
       "      <th>caloha_id</th>\n",
       "      <th>efo_id</th>\n",
       "      <th>pref_name</th>\n",
       "      <th>tissue_chembl_id</th>\n",
       "      <th>uberon_id</th>\n",
       "    </tr>\n",
       "  </thead>\n",
       "  <tbody>\n",
       "    <tr>\n",
       "      <th>0</th>\n",
       "      <td>BTO:0001281</td>\n",
       "      <td>TS-0956</td>\n",
       "      <td>EFO:0000869</td>\n",
       "      <td>Spleen</td>\n",
       "      <td>CHEMBL3559722</td>\n",
       "      <td>UBERON:0002106</td>\n",
       "    </tr>\n",
       "  </tbody>\n",
       "</table>\n",
       "</div>"
      ],
      "text/plain": [
       "        bto_id caloha_id       efo_id pref_name tissue_chembl_id  \\\n",
       "0  BTO:0001281   TS-0956  EFO:0000869    Spleen    CHEMBL3559722   \n",
       "\n",
       "        uberon_id  \n",
       "0  UBERON:0002106  "
      ]
     },
     "execution_count": 33,
     "metadata": {},
     "output_type": "execute_result"
    }
   ],
   "source": [
    "from chembl_webresource_client.new_client import new_client\n",
    "import pandas as pd #Use pandas python module to view data as tables\n",
    "\n",
    "tissue = new_client.tissue\n",
    "res = tissue.filter(efo_id=\"EFO:0000869\") #spleen\n",
    "pd.DataFrame(res)"
   ]
  },
  {
   "cell_type": "markdown",
   "metadata": {},
   "source": [
    "# Cells<a name=\"section7\"></a>"
   ]
  },
  {
   "cell_type": "markdown",
   "metadata": {},
   "source": [
    "## Get cell line by cellosaurus id"
   ]
  },
  {
   "cell_type": "code",
   "execution_count": 34,
   "metadata": {},
   "outputs": [
    {
     "data": {
      "text/html": [
       "<div>\n",
       "<style scoped>\n",
       "    .dataframe tbody tr th:only-of-type {\n",
       "        vertical-align: middle;\n",
       "    }\n",
       "\n",
       "    .dataframe tbody tr th {\n",
       "        vertical-align: top;\n",
       "    }\n",
       "\n",
       "    .dataframe thead th {\n",
       "        text-align: right;\n",
       "    }\n",
       "</style>\n",
       "<table border=\"1\" class=\"dataframe\">\n",
       "  <thead>\n",
       "    <tr style=\"text-align: right;\">\n",
       "      <th></th>\n",
       "      <th>cell_chembl_id</th>\n",
       "      <th>cell_description</th>\n",
       "      <th>cell_id</th>\n",
       "      <th>cell_name</th>\n",
       "      <th>cell_source_organism</th>\n",
       "      <th>cell_source_tax_id</th>\n",
       "      <th>cell_source_tissue</th>\n",
       "      <th>cellosaurus_id</th>\n",
       "      <th>cl_lincs_id</th>\n",
       "      <th>clo_id</th>\n",
       "      <th>efo_id</th>\n",
       "    </tr>\n",
       "  </thead>\n",
       "  <tbody>\n",
       "    <tr>\n",
       "      <th>0</th>\n",
       "      <td>CHEMBL3307686</td>\n",
       "      <td>MDA-MB-435 (Breast metastasis of melanoma cells</td>\n",
       "      <td>687</td>\n",
       "      <td>MDA-MB-435</td>\n",
       "      <td>Homo sapiens</td>\n",
       "      <td>9606</td>\n",
       "      <td>Breast metastasis of melanoma cells</td>\n",
       "      <td>CVCL_0417</td>\n",
       "      <td>None</td>\n",
       "      <td>None</td>\n",
       "      <td>EFO_0001213</td>\n",
       "    </tr>\n",
       "  </tbody>\n",
       "</table>\n",
       "</div>"
      ],
      "text/plain": [
       "  cell_chembl_id                                 cell_description  cell_id  \\\n",
       "0  CHEMBL3307686  MDA-MB-435 (Breast metastasis of melanoma cells      687   \n",
       "\n",
       "    cell_name cell_source_organism  cell_source_tax_id  \\\n",
       "0  MDA-MB-435         Homo sapiens                9606   \n",
       "\n",
       "                    cell_source_tissue cellosaurus_id cl_lincs_id clo_id  \\\n",
       "0  Breast metastasis of melanoma cells      CVCL_0417        None   None   \n",
       "\n",
       "        efo_id  \n",
       "0  EFO_0001213  "
      ]
     },
     "execution_count": 34,
     "metadata": {},
     "output_type": "execute_result"
    }
   ],
   "source": [
    "from chembl_webresource_client.new_client import new_client\n",
    "import pandas as pd #Use pandas python module to view data as tables\n",
    "\n",
    "cell_line = new_client.cell_line\n",
    "res = cell_line.filter(cellosaurus_id=\"CVCL_0417\")\n",
    "pd.DataFrame(res)"
   ]
  },
  {
   "cell_type": "markdown",
   "metadata": {},
   "source": [
    "## Get cells described as lymphoma"
   ]
  },
  {
   "cell_type": "code",
   "execution_count": 35,
   "metadata": {},
   "outputs": [
    {
     "data": {
      "text/html": [
       "<div>\n",
       "<style scoped>\n",
       "    .dataframe tbody tr th:only-of-type {\n",
       "        vertical-align: middle;\n",
       "    }\n",
       "\n",
       "    .dataframe tbody tr th {\n",
       "        vertical-align: top;\n",
       "    }\n",
       "\n",
       "    .dataframe thead th {\n",
       "        text-align: right;\n",
       "    }\n",
       "</style>\n",
       "<table border=\"1\" class=\"dataframe\">\n",
       "  <thead>\n",
       "    <tr style=\"text-align: right;\">\n",
       "      <th></th>\n",
       "      <th>cell_chembl_id</th>\n",
       "      <th>cell_description</th>\n",
       "      <th>cell_id</th>\n",
       "      <th>cell_name</th>\n",
       "      <th>cell_source_organism</th>\n",
       "      <th>cell_source_tax_id</th>\n",
       "      <th>cell_source_tissue</th>\n",
       "      <th>cellosaurus_id</th>\n",
       "      <th>cl_lincs_id</th>\n",
       "      <th>clo_id</th>\n",
       "      <th>efo_id</th>\n",
       "    </tr>\n",
       "  </thead>\n",
       "  <tbody>\n",
       "    <tr>\n",
       "      <th>0</th>\n",
       "      <td>CHEMBL3308488</td>\n",
       "      <td>CA46 (Burkitts lymphoma cells)</td>\n",
       "      <td>346</td>\n",
       "      <td>CA46</td>\n",
       "      <td>Homo sapiens</td>\n",
       "      <td>9606.0</td>\n",
       "      <td>Burkitts lymphoma cells</td>\n",
       "      <td>CVCL_1101</td>\n",
       "      <td>LCL-2017</td>\n",
       "      <td>CLO_0002168</td>\n",
       "      <td>EFO_0002124</td>\n",
       "    </tr>\n",
       "    <tr>\n",
       "      <th>1</th>\n",
       "      <td>CHEMBL3308006</td>\n",
       "      <td>U-937 (Histiocytic lymphoma cells)</td>\n",
       "      <td>379</td>\n",
       "      <td>U-937</td>\n",
       "      <td>Homo sapiens</td>\n",
       "      <td>9606.0</td>\n",
       "      <td>Histiocytic lymphoma cells</td>\n",
       "      <td>CVCL_0007</td>\n",
       "      <td>LCL-1125</td>\n",
       "      <td>CLO_0009465</td>\n",
       "      <td>EFO_0001257</td>\n",
       "    </tr>\n",
       "    <tr>\n",
       "      <th>2</th>\n",
       "      <td>CHEMBL3308007</td>\n",
       "      <td>U-937/GTB (Histiocytic lymphoma cells)</td>\n",
       "      <td>380</td>\n",
       "      <td>U-937/GTB</td>\n",
       "      <td>Homo sapiens</td>\n",
       "      <td>9606.0</td>\n",
       "      <td>Histiocytic lymphoma cells</td>\n",
       "      <td>CVCL_U631</td>\n",
       "      <td>None</td>\n",
       "      <td>None</td>\n",
       "      <td>None</td>\n",
       "    </tr>\n",
       "    <tr>\n",
       "      <th>3</th>\n",
       "      <td>CHEMBL3308492</td>\n",
       "      <td>BJAB (Burkitts lymphoma cells)</td>\n",
       "      <td>412</td>\n",
       "      <td>BJAB</td>\n",
       "      <td>Homo sapiens</td>\n",
       "      <td>9606.0</td>\n",
       "      <td>Burkitts lymphoma cells</td>\n",
       "      <td>CVCL_5711</td>\n",
       "      <td>None</td>\n",
       "      <td>None</td>\n",
       "      <td>EFO_0002815</td>\n",
       "    </tr>\n",
       "    <tr>\n",
       "      <th>4</th>\n",
       "      <td>CHEMBL3308050</td>\n",
       "      <td>W4 (Lymphoma cells)</td>\n",
       "      <td>426</td>\n",
       "      <td>W4</td>\n",
       "      <td>Mus musculus</td>\n",
       "      <td>10090.0</td>\n",
       "      <td>Lymphoma cells</td>\n",
       "      <td>CVCL_H588</td>\n",
       "      <td>None</td>\n",
       "      <td>None</td>\n",
       "      <td>None</td>\n",
       "    </tr>\n",
       "    <tr>\n",
       "      <th>5</th>\n",
       "      <td>CHEMBL3307500</td>\n",
       "      <td>HuT78 (T-lymphoma cells)</td>\n",
       "      <td>472</td>\n",
       "      <td>HuT78</td>\n",
       "      <td>Homo sapiens</td>\n",
       "      <td>9606.0</td>\n",
       "      <td>T-lymphoma cells</td>\n",
       "      <td>CVCL_0337</td>\n",
       "      <td>LCL-2005</td>\n",
       "      <td>CLO_0004304</td>\n",
       "      <td>EFO_0002209</td>\n",
       "    </tr>\n",
       "    <tr>\n",
       "      <th>6</th>\n",
       "      <td>CHEMBL3308401</td>\n",
       "      <td>P388 (Lymphoma cells)</td>\n",
       "      <td>549</td>\n",
       "      <td>P388</td>\n",
       "      <td>Mus musculus</td>\n",
       "      <td>10090.0</td>\n",
       "      <td>Lymphoma cells</td>\n",
       "      <td>CVCL_7222</td>\n",
       "      <td>None</td>\n",
       "      <td>CLO_0008321</td>\n",
       "      <td>None</td>\n",
       "    </tr>\n",
       "    <tr>\n",
       "      <th>7</th>\n",
       "      <td>CHEMBL3307566</td>\n",
       "      <td>P388/ADR (Lymphoma cells)</td>\n",
       "      <td>550</td>\n",
       "      <td>P388/ADR</td>\n",
       "      <td>Mus musculus</td>\n",
       "      <td>10090.0</td>\n",
       "      <td>Lymphoma cells</td>\n",
       "      <td>CVCL_IZ75</td>\n",
       "      <td>None</td>\n",
       "      <td>None</td>\n",
       "      <td>None</td>\n",
       "    </tr>\n",
       "    <tr>\n",
       "      <th>8</th>\n",
       "      <td>CHEMBL3307567</td>\n",
       "      <td>P388CPT45 (Lymphoma cells)</td>\n",
       "      <td>551</td>\n",
       "      <td>P388CPT45</td>\n",
       "      <td>Mus musculus</td>\n",
       "      <td>10090.0</td>\n",
       "      <td>Lymphoma cells</td>\n",
       "      <td>CVCL_D638</td>\n",
       "      <td>None</td>\n",
       "      <td>None</td>\n",
       "      <td>None</td>\n",
       "    </tr>\n",
       "    <tr>\n",
       "      <th>9</th>\n",
       "      <td>CHEMBL3307579</td>\n",
       "      <td>Daudi (Burkitts lymphoma cells)</td>\n",
       "      <td>564</td>\n",
       "      <td>Daudi</td>\n",
       "      <td>Homo sapiens</td>\n",
       "      <td>9606.0</td>\n",
       "      <td>Burkitts lymphoma cells</td>\n",
       "      <td>CVCL_0008</td>\n",
       "      <td>LCL-2018</td>\n",
       "      <td>CLO_0002708</td>\n",
       "      <td>EFO_0002169</td>\n",
       "    </tr>\n",
       "    <tr>\n",
       "      <th>10</th>\n",
       "      <td>CHEMBL3307608</td>\n",
       "      <td>Burkitts lymphoma cells</td>\n",
       "      <td>596</td>\n",
       "      <td>Burkitts lymphoma cell</td>\n",
       "      <td>None</td>\n",
       "      <td>NaN</td>\n",
       "      <td>Burkitts lymphoma cells</td>\n",
       "      <td>None</td>\n",
       "      <td>None</td>\n",
       "      <td>None</td>\n",
       "      <td>None</td>\n",
       "    </tr>\n",
       "    <tr>\n",
       "      <th>11</th>\n",
       "      <td>CHEMBL3307658</td>\n",
       "      <td>JIJOYE (Burkitts lymphoma cells)</td>\n",
       "      <td>654</td>\n",
       "      <td>JIYOYE</td>\n",
       "      <td>Homo sapiens</td>\n",
       "      <td>9606.0</td>\n",
       "      <td>Burkitts lymphoma cells</td>\n",
       "      <td>CVCL_1317</td>\n",
       "      <td>None</td>\n",
       "      <td>CLO_0007025</td>\n",
       "      <td>EFO_0002215</td>\n",
       "    </tr>\n",
       "    <tr>\n",
       "      <th>12</th>\n",
       "      <td>CHEMBL3307690</td>\n",
       "      <td>L5178Y (Lymphoma cells)</td>\n",
       "      <td>692</td>\n",
       "      <td>L5178Y</td>\n",
       "      <td>Mus musculus</td>\n",
       "      <td>10090.0</td>\n",
       "      <td>Lymphoma cells</td>\n",
       "      <td>CVCL_2097</td>\n",
       "      <td>None</td>\n",
       "      <td>CLO_0007195</td>\n",
       "      <td>None</td>\n",
       "    </tr>\n",
       "    <tr>\n",
       "      <th>13</th>\n",
       "      <td>CHEMBL3307722</td>\n",
       "      <td>FEPD (Anaplastic lymphoma cells)</td>\n",
       "      <td>731</td>\n",
       "      <td>FEPD</td>\n",
       "      <td>Homo sapiens</td>\n",
       "      <td>9606.0</td>\n",
       "      <td>Anaplastic lymphoma cells</td>\n",
       "      <td>CVCL_H614</td>\n",
       "      <td>None</td>\n",
       "      <td>None</td>\n",
       "      <td>None</td>\n",
       "    </tr>\n",
       "    <tr>\n",
       "      <th>14</th>\n",
       "      <td>CHEMBL3307875</td>\n",
       "      <td>Lymphoma cell line</td>\n",
       "      <td>949</td>\n",
       "      <td>Lymphoma cell line</td>\n",
       "      <td>None</td>\n",
       "      <td>NaN</td>\n",
       "      <td>None</td>\n",
       "      <td>None</td>\n",
       "      <td>None</td>\n",
       "      <td>None</td>\n",
       "      <td>None</td>\n",
       "    </tr>\n",
       "  </tbody>\n",
       "</table>\n",
       "</div>"
      ],
      "text/plain": [
       "   cell_chembl_id                        cell_description  cell_id  \\\n",
       "0   CHEMBL3308488          CA46 (Burkitts lymphoma cells)      346   \n",
       "1   CHEMBL3308006      U-937 (Histiocytic lymphoma cells)      379   \n",
       "2   CHEMBL3308007  U-937/GTB (Histiocytic lymphoma cells)      380   \n",
       "3   CHEMBL3308492          BJAB (Burkitts lymphoma cells)      412   \n",
       "4   CHEMBL3308050                     W4 (Lymphoma cells)      426   \n",
       "5   CHEMBL3307500                HuT78 (T-lymphoma cells)      472   \n",
       "6   CHEMBL3308401                   P388 (Lymphoma cells)      549   \n",
       "7   CHEMBL3307566               P388/ADR (Lymphoma cells)      550   \n",
       "8   CHEMBL3307567              P388CPT45 (Lymphoma cells)      551   \n",
       "9   CHEMBL3307579         Daudi (Burkitts lymphoma cells)      564   \n",
       "10  CHEMBL3307608                 Burkitts lymphoma cells      596   \n",
       "11  CHEMBL3307658        JIJOYE (Burkitts lymphoma cells)      654   \n",
       "12  CHEMBL3307690                 L5178Y (Lymphoma cells)      692   \n",
       "13  CHEMBL3307722        FEPD (Anaplastic lymphoma cells)      731   \n",
       "14  CHEMBL3307875                      Lymphoma cell line      949   \n",
       "\n",
       "                 cell_name cell_source_organism  cell_source_tax_id  \\\n",
       "0                     CA46         Homo sapiens              9606.0   \n",
       "1                    U-937         Homo sapiens              9606.0   \n",
       "2                U-937/GTB         Homo sapiens              9606.0   \n",
       "3                     BJAB         Homo sapiens              9606.0   \n",
       "4                       W4         Mus musculus             10090.0   \n",
       "5                    HuT78         Homo sapiens              9606.0   \n",
       "6                     P388         Mus musculus             10090.0   \n",
       "7                 P388/ADR         Mus musculus             10090.0   \n",
       "8                P388CPT45         Mus musculus             10090.0   \n",
       "9                    Daudi         Homo sapiens              9606.0   \n",
       "10  Burkitts lymphoma cell                 None                 NaN   \n",
       "11                  JIYOYE         Homo sapiens              9606.0   \n",
       "12                  L5178Y         Mus musculus             10090.0   \n",
       "13                    FEPD         Homo sapiens              9606.0   \n",
       "14      Lymphoma cell line                 None                 NaN   \n",
       "\n",
       "            cell_source_tissue cellosaurus_id cl_lincs_id       clo_id  \\\n",
       "0      Burkitts lymphoma cells      CVCL_1101    LCL-2017  CLO_0002168   \n",
       "1   Histiocytic lymphoma cells      CVCL_0007    LCL-1125  CLO_0009465   \n",
       "2   Histiocytic lymphoma cells      CVCL_U631        None         None   \n",
       "3      Burkitts lymphoma cells      CVCL_5711        None         None   \n",
       "4               Lymphoma cells      CVCL_H588        None         None   \n",
       "5             T-lymphoma cells      CVCL_0337    LCL-2005  CLO_0004304   \n",
       "6               Lymphoma cells      CVCL_7222        None  CLO_0008321   \n",
       "7               Lymphoma cells      CVCL_IZ75        None         None   \n",
       "8               Lymphoma cells      CVCL_D638        None         None   \n",
       "9      Burkitts lymphoma cells      CVCL_0008    LCL-2018  CLO_0002708   \n",
       "10     Burkitts lymphoma cells           None        None         None   \n",
       "11     Burkitts lymphoma cells      CVCL_1317        None  CLO_0007025   \n",
       "12              Lymphoma cells      CVCL_2097        None  CLO_0007195   \n",
       "13   Anaplastic lymphoma cells      CVCL_H614        None         None   \n",
       "14                        None           None        None         None   \n",
       "\n",
       "         efo_id  \n",
       "0   EFO_0002124  \n",
       "1   EFO_0001257  \n",
       "2          None  \n",
       "3   EFO_0002815  \n",
       "4          None  \n",
       "5   EFO_0002209  \n",
       "6          None  \n",
       "7          None  \n",
       "8          None  \n",
       "9   EFO_0002169  \n",
       "10         None  \n",
       "11  EFO_0002215  \n",
       "12         None  \n",
       "13         None  \n",
       "14         None  "
      ]
     },
     "execution_count": 35,
     "metadata": {},
     "output_type": "execute_result"
    }
   ],
   "source": [
    "from chembl_webresource_client.new_client import new_client\n",
    "import pandas as pd #Use pandas python module to view data as tables\n",
    "\n",
    "cell_line = new_client.cell_line\n",
    "res = cell_line.filter(cell_description__icontains=\"lymphoma\")\n",
    "pd.DataFrame(res)"
   ]
  },
  {
   "cell_type": "markdown",
   "metadata": {},
   "source": [
    "# Utils<a name=\"section8\"></a>"
   ]
  },
  {
   "cell_type": "markdown",
   "metadata": {},
   "source": [
    "## Convert SMILES to CTAB"
   ]
  },
  {
   "cell_type": "code",
   "execution_count": 37,
   "metadata": {},
   "outputs": [
    {
     "data": {
      "text/plain": [
       "'\\n     RDKit          2D\\n\\n 13 13  0  0  0  0  0  0  0  0999 V2000\\n   -0.9550   -1.3220    0.0000 O   0  0  0  0  0  0  0  0  0  0  0  0\\n   -0.9528   -0.3220    0.0000 C   0  0  0  0  0  0  0  0  0  0  0  0\\n   -0.0858    0.1764    0.0000 O   0  0  0  0  0  0  0  0  0  0  0  0\\n    0.7792   -0.3254    0.0000 C   0  0  0  0  0  0  0  0  0  0  0  0\\n    0.7772   -1.3254    0.0000 C   0  0  0  0  0  0  0  0  0  0  0  0\\n    1.6422   -1.8270    0.0000 C   0  0  0  0  0  0  0  0  0  0  0  0\\n    2.5092   -1.3288    0.0000 C   0  0  0  0  0  0  0  0  0  0  0  0\\n    2.5112   -0.3288    0.0000 C   0  0  0  0  0  0  0  0  0  0  0  0\\n    1.6462    0.1728    0.0000 C   0  0  0  0  0  0  0  0  0  0  0  0\\n    1.6482    1.1728    0.0000 C   0  0  0  0  0  0  0  0  0  0  0  0\\n    0.7832    1.6746    0.0000 O   0  0  0  0  0  0  0  0  0  0  0  0\\n    2.5152    1.6710    0.0000 O   0  0  0  0  0  0  0  0  0  0  0  0\\n   -1.8178    0.1798    0.0000 C   0  0  0  0  0  0  0  0  0  0  0  0\\n  1  2  2  0\\n  2  3  1  0\\n  3  4  1  0\\n  4  5  2  0\\n  5  6  1  0\\n  6  7  2  0\\n  7  8  1  0\\n  8  9  2  0\\n  9 10  1  0\\n 10 11  2  0\\n 10 12  1  0\\n  2 13  1  0\\n  9  4  1  0\\nM  END\\n$$$$\\n'"
      ]
     },
     "execution_count": 37,
     "metadata": {},
     "output_type": "execute_result"
    }
   ],
   "source": [
    "from chembl_webresource_client.utils import utils\n",
    "\n",
    "aspirin = utils.smiles2ctab('O=C(Oc1ccccc1C(=O)O)C')\n",
    "aspirin"
   ]
  },
  {
   "cell_type": "markdown",
   "metadata": {},
   "source": [
    "## Compute Maximal Common Substructure"
   ]
  },
  {
   "cell_type": "code",
   "execution_count": 38,
   "metadata": {},
   "outputs": [
    {
     "data": {
      "text/plain": [
       "'[#6]1(-[#6]):[#6]:[#6](-[#8]-[#6]):[#6](:[#6]:[#6]:1)-[#8]'"
      ]
     },
     "execution_count": 38,
     "metadata": {},
     "output_type": "execute_result"
    }
   ],
   "source": [
    "from chembl_webresource_client.utils import utils\n",
    "\n",
    "smiles = [\"O=C(NCc1cc(OC)c(O)cc1)CCCC/C=C/C(C)C\",\n",
    "          \"CC(C)CCCCCC(=O)NCC1=CC(=C(C=C1)O)OC\", \"c1(C=O)cc(OC)c(O)cc1\"]\n",
    "mols = [utils.smiles2ctab(smile) for smile in smiles]\n",
    "sdf = ''.join(mols)\n",
    "result = utils.mcs(sdf)\n",
    "result"
   ]
  },
  {
   "cell_type": "markdown",
   "metadata": {},
   "source": [
    "## Compute various molecular descriptors"
   ]
  },
  {
   "cell_type": "code",
   "execution_count": 39,
   "metadata": {},
   "outputs": [
    {
     "data": {
      "text/plain": [
       "{'qed': 0.5501217966938848,\n",
       " 'MolWt': 180.15899999999996,\n",
       " 'TPSA': 63.60000000000001,\n",
       " 'HeavyAtomCount': 13,\n",
       " 'NumAromaticRings': 1,\n",
       " 'NumHAcceptors': 3,\n",
       " 'NumHDonors': 1,\n",
       " 'NumRotatableBonds': 2,\n",
       " 'MolLogP': 1.3100999999999998,\n",
       " 'MolecularFormula': 'C9H8O4',\n",
       " 'Ro3Pass': 0,\n",
       " 'NumRo5': 0,\n",
       " 'MonoisotopicMolWt': 180.042258736}"
      ]
     },
     "execution_count": 39,
     "metadata": {},
     "output_type": "execute_result"
    }
   ],
   "source": [
    "from chembl_webresource_client.utils import utils\n",
    "import json\n",
    "\n",
    "aspirin = utils.smiles2ctab('O=C(Oc1ccccc1C(=O)O)C')\n",
    "descs = json.loads(utils.chemblDescriptors(aspirin))[0]\n",
    "descs"
   ]
  },
  {
   "cell_type": "markdown",
   "metadata": {},
   "source": [
    "## Compute structural alerts"
   ]
  },
  {
   "cell_type": "code",
   "execution_count": 40,
   "metadata": {},
   "outputs": [
    {
     "name": "stdout",
     "output_type": "stream",
     "text": [
      "{'alert_id': 1030, 'alert_name': 'Ester', 'set_name': 'MLSMR', 'smarts': '[#6]-C(=O)O-[#6]'}\n",
      "{'alert_id': 1069, 'alert_name': 'vinyl michael acceptor1', 'set_name': 'MLSMR', 'smarts': '[#6]-[CH1]=C-C(=O)[#6,#7,#8]'}\n"
     ]
    }
   ],
   "source": [
    "from chembl_webresource_client.utils import utils\n",
    "\n",
    "mol = utils.smiles2ctab(\"O=C(Oc1ccccc1C(=O)O)C\")\n",
    "alerts = json.loads(utils.structuralAlerts(mol))\n",
    "for a in alerts[0]:\n",
    "    print(a)"
   ]
  },
  {
   "cell_type": "markdown",
   "metadata": {},
   "source": [
    "## Standardize a molecule"
   ]
  },
  {
   "cell_type": "code",
   "execution_count": 41,
   "metadata": {},
   "outputs": [
    {
     "data": {
      "text/plain": [
       "[{'standard_molblock': '\\n     RDKit          2D\\n\\n 19 17  0  0  0  0  0  0  0  0999 V2000\\n    0.0000   -3.0000    0.0000 O   0  0  0  0  0  0  0  0  0  0  0  0\\n   -5.5170   -1.9538    0.0000 Na  0  0  0  0  0 15  0  0  0  0  0  0\\n   -2.9244   -0.4442    0.0000 O   0  0  0  0  0  0  0  0  0  0  0  0\\n   -2.0602    0.0590    0.0000 C   0  0  0  0  0  0  0  0  0  0  0  0\\n   -2.0638    1.0590    0.0000 O   0  0  0  0  0  0  0  0  0  0  0  0\\n   -1.1924   -0.4380    0.0000 C   0  0  0  0  0  0  0  0  0  0  0  0\\n   -0.3282    0.0652    0.0000 C   0  0  0  0  0  0  0  0  0  0  0  0\\n    0.5396   -0.4318    0.0000 C   0  0  0  0  0  0  0  0  0  0  0  0\\n    1.4038    0.0714    0.0000 C   0  0  0  0  0  0  0  0  0  0  0  0\\n    1.4002    1.0714    0.0000 C   0  0  0  0  0  0  0  0  0  0  0  0\\n    2.2644    1.5744    0.0000 C   0  0  0  0  0  0  0  0  0  0  0  0\\n    2.2608    2.5744    0.0000 N   0  0  0  0  0  0  0  0  0  0  0  0\\n    0.5324    1.5682    0.0000 C   0  0  0  0  0  0  0  0  0  0  0  0\\n   -0.3318    1.0652    0.0000 C   0  0  0  0  0  0  0  0  0  0  0  0\\n    5.0649    2.8712    0.0000 C   0  0  0  0  0  0  0  0  0  0  0  0\\n    4.8623    1.8920    0.0000 N   0  0  0  0  0  0  0  0  0  0  0  0\\n    3.8683    1.7822    0.0000 N   0  0  0  0  0  0  0  0  0  0  0  0\\n    3.4567    2.6936    0.0000 N   0  0  0  0  0  0  0  0  0  0  0  0\\n    4.1963    3.3666    0.0000 N   0  0  0  0  0  0  0  0  0  0  0  0\\n  3  4  1  0\\n  4  5  2  0\\n  4  6  1  0\\n  6  7  1  0\\n  7  8  2  0\\n  8  9  1  0\\n  9 10  2  0\\n 10 11  1  0\\n 11 12  1  0\\n 10 13  1  0\\n 13 14  2  0\\n 14  7  1  0\\n 15 16  2  0\\n 16 17  1  0\\n 17 18  2  0\\n 18 19  1  0\\n 19 15  1  0\\nM  CHG  2   2   1   3  -1\\nM  END\\n'}]"
      ]
     },
     "execution_count": 41,
     "metadata": {},
     "output_type": "execute_result"
    }
   ],
   "source": [
    "from chembl_webresource_client.utils import utils\n",
    "mol = utils.smiles2ctab(\"[Na]OC(=O)Cc1ccc(C[NH3+])cc1.c1nnn[n-]1.O\")\n",
    "st = json.loads(utils.standardize(mol))\n",
    "st"
   ]
  },
  {
   "cell_type": "markdown",
   "metadata": {},
   "source": [
    "## Calculate the parent molecule from its SMILES identifier"
   ]
  },
  {
   "cell_type": "code",
   "execution_count": 42,
   "metadata": {},
   "outputs": [
    {
     "data": {
      "text/plain": [
       "[{'parent_molblock': '\\n     RDKit          2D\\n\\n 18 18  0  0  0  0  0  0  0  0999 V2000\\n   -5.5170   -1.9538    0.0000 Na  0  0  0  0  0  1  0  0  0  0  0  0\\n   -2.9244   -0.4442    0.0000 O   0  0  0  0  0  0  0  0  0  0  0  0\\n   -2.0602    0.0590    0.0000 C   0  0  0  0  0  0  0  0  0  0  0  0\\n   -2.0638    1.0590    0.0000 O   0  0  0  0  0  0  0  0  0  0  0  0\\n   -1.1924   -0.4380    0.0000 C   0  0  0  0  0  0  0  0  0  0  0  0\\n   -0.3282    0.0652    0.0000 C   0  0  0  0  0  0  0  0  0  0  0  0\\n    0.5396   -0.4318    0.0000 C   0  0  0  0  0  0  0  0  0  0  0  0\\n    1.4038    0.0714    0.0000 C   0  0  0  0  0  0  0  0  0  0  0  0\\n    1.4002    1.0714    0.0000 C   0  0  0  0  0  0  0  0  0  0  0  0\\n    2.2644    1.5744    0.0000 C   0  0  0  0  0  0  0  0  0  0  0  0\\n    2.2608    2.5744    0.0000 N   0  0  0  0  0  0  0  0  0  0  0  0\\n    0.5324    1.5682    0.0000 C   0  0  0  0  0  0  0  0  0  0  0  0\\n   -0.3318    1.0652    0.0000 C   0  0  0  0  0  0  0  0  0  0  0  0\\n    5.0649    2.8712    0.0000 C   0  0  0  0  0  0  0  0  0  0  0  0\\n    4.8623    1.8920    0.0000 N   0  0  0  0  0  0  0  0  0  0  0  0\\n    3.8683    1.7822    0.0000 N   0  0  0  0  0  0  0  0  0  0  0  0\\n    3.4567    2.6936    0.0000 N   0  0  0  0  0  0  0  0  0  0  0  0\\n    4.1963    3.3666    0.0000 N   0  0  0  0  0  0  0  0  0  0  0  0\\n  1  2  1  0\\n  2  3  1  0\\n  3  4  2  0\\n  3  5  1  0\\n  5  6  1  0\\n  6  7  2  0\\n  7  8  1  0\\n  8  9  2  0\\n  9 10  1  0\\n 10 11  1  0\\n  9 12  1  0\\n 12 13  2  0\\n 13  6  1  0\\n 14 15  2  0\\n 15 16  1  0\\n 16 17  2  0\\n 17 18  1  0\\n 18 14  1  0\\nM  END\\n',\n",
       "  'exclude': False}]"
      ]
     },
     "execution_count": 42,
     "metadata": {},
     "output_type": "execute_result"
    }
   ],
   "source": [
    "from chembl_webresource_client.utils import utils\n",
    "\n",
    "mol = utils.smiles2ctab(\"[Na]OC(=O)Cc1ccc(C[NH3+])cc1.c1nnn[n-]1.[Na]\")\n",
    "par = json.loads(utils.getParent(mol))\n",
    "par"
   ]
  },
  {
   "cell_type": "code",
   "execution_count": null,
   "metadata": {},
   "outputs": [],
   "source": []
  }
 ],
 "metadata": {
  "kernelspec": {
   "display_name": "Python 3",
   "language": "python",
   "name": "python3"
  },
  "language_info": {
   "codemirror_mode": {
    "name": "ipython",
    "version": 3
   },
   "file_extension": ".py",
   "mimetype": "text/x-python",
   "name": "python",
   "nbconvert_exporter": "python",
   "pygments_lexer": "ipython3",
   "version": "3.12.6"
  }
 },
 "nbformat": 4,
 "nbformat_minor": 5
}
