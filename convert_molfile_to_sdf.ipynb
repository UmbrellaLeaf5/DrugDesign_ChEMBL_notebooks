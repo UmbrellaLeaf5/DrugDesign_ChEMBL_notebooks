{
 "cells": [
  {
   "cell_type": "code",
   "execution_count": 166,
   "metadata": {},
   "outputs": [],
   "source": [
    "from chembl_webresource_client.new_client import new_client\n",
    "from chembl_webresource_client.query_set import QuerySet\n",
    "import pandas as pd\n",
    "from os import mkdir\n",
    "from loguru import logger\n",
    "\n",
    "try:\n",
    "  mkdir(\"results\")\n",
    "  mkdir(\"results/compounds\")\n",
    "  mkdir(\"results/compounds/molfiles\")\n",
    "except:\n",
    "  pass"
   ]
  },
  {
   "cell_type": "code",
   "execution_count": 167,
   "metadata": {},
   "outputs": [],
   "source": [
    "# type: ignore\n",
    "\n",
    "def DataFrameMolfilesFromIdList(molecule_chembl_id_list: list[str]) -> pd.DataFrame:\n",
    "    data: QuerySet = new_client.molecule.filter(molecule_chembl_id__in=molecule_chembl_id_list).only(['molecule_chembl_id', 'molecule_structures'])\n",
    "    df = pd.DataFrame(data)\n",
    "\n",
    "    df['molfile'] = df['molecule_structures'].apply(lambda x: x['molfile'] if isinstance(x, dict) else None)\n",
    "\n",
    "    df = df.drop(['molecule_structures'], axis=1)\n",
    "\n",
    "    return df"
   ]
  },
  {
   "cell_type": "code",
   "execution_count": 168,
   "metadata": {},
   "outputs": [],
   "source": [
    "def SaveMolfilesToSDF(df: pd.DataFrame, file_name: str):\n",
    "    with open(file_name, 'w') as f:\n",
    "        for value in df.values:\n",
    "            molecule_chembl_id, molfile = value\n",
    "            f.write(f\"{molecule_chembl_id}{molfile}\\n\\n$$$$\\n\")"
   ]
  },
  {
   "cell_type": "code",
   "execution_count": 169,
   "metadata": {},
   "outputs": [],
   "source": [
    "def SaveMolfilesToSDFByIdList(molecule_chembl_id_list: list[str], file_name: str, \n",
    "                              extra_data: pd.DataFrame = pd.DataFrame(), print_to_console: bool = False) -> None:\n",
    "    def DataFrameMolfilesFromIdList(molecule_chembl_id_list: list[str]) -> pd.DataFrame:\n",
    "        qs_data: QuerySet = new_client.molecule.filter(\n",
    "            molecule_chembl_id__in=molecule_chembl_id_list).only([\n",
    "                'molecule_chembl_id', 'molecule_structures'])\n",
    "\n",
    "        data = pd.DataFrame(qs_data)\n",
    "\n",
    "        data['molfile'] = data['molecule_structures'].apply(\n",
    "            lambda x: x['molfile'] if isinstance(x, dict) else None)\n",
    "\n",
    "        data = data.drop(['molecule_structures'], axis=1)\n",
    "\n",
    "        return data\n",
    "\n",
    "    def SaveMolfilesToSDF(data: pd.DataFrame, file_name: str,\n",
    "                          extra_data: pd.DataFrame = pd.DataFrame(), \n",
    "                          print_to_console: bool = False) -> None:\n",
    "        if print_to_console:\n",
    "            logger.info(f\"Opening {file_name}...\".ljust(77))\n",
    "\n",
    "        with open(f\"{file_name}.sdf\", 'w') as f:\n",
    "            if print_to_console:\n",
    "                logger.success(f\"Opening {file_name}\".ljust(77))\n",
    "\n",
    "            for value in data.values:\n",
    "                molecule_chembl_id, molfile = value\n",
    "\n",
    "                f.write(f\"{molecule_chembl_id}{molfile}\\n\\n\")\n",
    "\n",
    "                if not extra_data.empty:\n",
    "                    df = extra_data.set_index(\"molecule_chembl_id\")\n",
    "                    \n",
    "                    for column in df.columns:\n",
    "                        value = str(df.loc[molecule_chembl_id, column])\n",
    "\n",
    "                        if value != \"nan\" and value != \"None\":\n",
    "                            f.write(f\"> <{column}>\\n\")\n",
    "                            f.write(f\"{value}\\n\\n\")\n",
    "                \n",
    "                f.write(\"$$$$\\n\")\n",
    "\n",
    "                if print_to_console:\n",
    "                    logger.info(\n",
    "                        f\"Writing {molecule_chembl_id} data to .sdf file...\".ljust(77))\n",
    "\n",
    "    if print_to_console:\n",
    "        logger.info(\"Collecting molfiles to pandas.DataFrame()...\".ljust(77))\n",
    "\n",
    "    data = DataFrameMolfilesFromIdList(molecule_chembl_id_list)\n",
    "\n",
    "    if print_to_console:\n",
    "        logger.success(\"Collecting molfiles to pandas.DataFrame()\".ljust(77))\n",
    "\n",
    "    SaveMolfilesToSDF(data=data, file_name=file_name, extra_data=extra_data,\n",
    "                      print_to_console=print_to_console)\n"
   ]
  },
  {
   "cell_type": "code",
   "execution_count": 170,
   "metadata": {},
   "outputs": [
    {
     "name": "stderr",
     "output_type": "stream",
     "text": [
      "\u001b[32m2024-10-23 14:51:33.742\u001b[0m | \u001b[1mINFO    \u001b[0m | \u001b[36m__main__\u001b[0m:\u001b[36mSaveMolfilesToSDFByIdList\u001b[0m:\u001b[36m49\u001b[0m - \u001b[1mCollecting molfiles to pandas.DataFrame()...                                 \u001b[0m\n"
     ]
    },
    {
     "name": "stderr",
     "output_type": "stream",
     "text": [
      "\u001b[32m2024-10-23 14:51:33.751\u001b[0m | \u001b[32m\u001b[1mSUCCESS \u001b[0m | \u001b[36m__main__\u001b[0m:\u001b[36mSaveMolfilesToSDFByIdList\u001b[0m:\u001b[36m54\u001b[0m - \u001b[32m\u001b[1mCollecting molfiles to pandas.DataFrame()                                    \u001b[0m\n",
      "\u001b[32m2024-10-23 14:51:33.751\u001b[0m | \u001b[1mINFO    \u001b[0m | \u001b[36m__main__\u001b[0m:\u001b[36mSaveMolfilesToSDF\u001b[0m:\u001b[36m21\u001b[0m - \u001b[1mOpening results/molfiles...                                                  \u001b[0m\n",
      "\u001b[32m2024-10-23 14:51:33.751\u001b[0m | \u001b[32m\u001b[1mSUCCESS \u001b[0m | \u001b[36m__main__\u001b[0m:\u001b[36mSaveMolfilesToSDF\u001b[0m:\u001b[36m25\u001b[0m - \u001b[32m\u001b[1mOpening results/molfiles                                                     \u001b[0m\n",
      "\u001b[32m2024-10-23 14:51:33.751\u001b[0m | \u001b[1mINFO    \u001b[0m | \u001b[36m__main__\u001b[0m:\u001b[36mSaveMolfilesToSDF\u001b[0m:\u001b[36m45\u001b[0m - \u001b[1mWriting CHEMBL155754 data to .sdf file...                                    \u001b[0m\n",
      "\u001b[32m2024-10-23 14:51:33.751\u001b[0m | \u001b[1mINFO    \u001b[0m | \u001b[36m__main__\u001b[0m:\u001b[36mSaveMolfilesToSDF\u001b[0m:\u001b[36m45\u001b[0m - \u001b[1mWriting CHEMBL156630 data to .sdf file...                                    \u001b[0m\n"
     ]
    }
   ],
   "source": [
    "df = pd.read_csv(\"../results/activities/CHEMBL1951_IC50_activities.csv\", sep=';') \n",
    "SaveMolfilesToSDFByIdList([\"CHEMBL156630\", \"CHEMBL155754\"], \"results/molfiles\", df, True)"
   ]
  }
 ],
 "metadata": {
  "kernelspec": {
   "display_name": ".venv",
   "language": "python",
   "name": "python3"
  },
  "language_info": {
   "codemirror_mode": {
    "name": "ipython",
    "version": 3
   },
   "file_extension": ".py",
   "mimetype": "text/x-python",
   "name": "python",
   "nbconvert_exporter": "python",
   "pygments_lexer": "ipython3",
   "version": "3.12.6"
  }
 },
 "nbformat": 4,
 "nbformat_minor": 2
}
