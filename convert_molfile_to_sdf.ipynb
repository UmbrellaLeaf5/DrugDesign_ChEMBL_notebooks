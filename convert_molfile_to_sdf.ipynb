{
 "cells": [
  {
   "cell_type": "code",
   "execution_count": 193,
   "metadata": {},
   "outputs": [],
   "source": [
    "from chembl_webresource_client.new_client import new_client\n",
    "from chembl_webresource_client.query_set import QuerySet\n",
    "import pandas as pd\n",
    "from os import mkdir\n",
    "\n",
    "try:\n",
    "  mkdir(\"results\")\n",
    "  mkdir(\"results/compounds\")\n",
    "  mkdir(\"results/compounds/molfiles\")\n",
    "except:\n",
    "  pass"
   ]
  },
  {
   "cell_type": "code",
   "execution_count": 194,
   "metadata": {},
   "outputs": [],
   "source": [
    "# type: ignore\n",
    "\n",
    "def DataFrameMolfilesFromIdList(molecule_chembl_id_list: list[str]) -> pd.DataFrame:\n",
    "    data: QuerySet = new_client.molecule.filter(molecule_chembl_id__in=molecule_chembl_id_list).only(['molecule_chembl_id', 'molecule_structures'])\n",
    "    df = pd.DataFrame(data)\n",
    "\n",
    "    df['molfile'] = df['molecule_structures'].apply(lambda x: x['molfile'] if isinstance(x, dict) else None)\n",
    "\n",
    "    df = df.drop(['molecule_structures'], axis=1)\n",
    "\n",
    "    return df"
   ]
  },
  {
   "cell_type": "code",
   "execution_count": 195,
   "metadata": {},
   "outputs": [
    {
     "data": {
      "text/html": [
       "<div>\n",
       "<style scoped>\n",
       "    .dataframe tbody tr th:only-of-type {\n",
       "        vertical-align: middle;\n",
       "    }\n",
       "\n",
       "    .dataframe tbody tr th {\n",
       "        vertical-align: top;\n",
       "    }\n",
       "\n",
       "    .dataframe thead th {\n",
       "        text-align: right;\n",
       "    }\n",
       "</style>\n",
       "<table border=\"1\" class=\"dataframe\">\n",
       "  <thead>\n",
       "    <tr style=\"text-align: right;\">\n",
       "      <th></th>\n",
       "      <th>molecule_chembl_id</th>\n",
       "      <th>molfile</th>\n",
       "    </tr>\n",
       "  </thead>\n",
       "  <tbody>\n",
       "    <tr>\n",
       "      <th>0</th>\n",
       "      <td>CHEMBL266160</td>\n",
       "      <td>\\n     RDKit          2D\\n\\n  3  2  0  0  0  0...</td>\n",
       "    </tr>\n",
       "    <tr>\n",
       "      <th>1</th>\n",
       "      <td>CHEMBL14449</td>\n",
       "      <td>\\n     RDKit          2D\\n\\n  3  2  0  0  0  0...</td>\n",
       "    </tr>\n",
       "    <tr>\n",
       "      <th>2</th>\n",
       "      <td>CHEMBL14688</td>\n",
       "      <td>\\n     RDKit          2D\\n\\n  2  1  0  0  0  0...</td>\n",
       "    </tr>\n",
       "  </tbody>\n",
       "</table>\n",
       "</div>"
      ],
      "text/plain": [
       "  molecule_chembl_id                                            molfile\n",
       "0       CHEMBL266160  \\n     RDKit          2D\\n\\n  3  2  0  0  0  0...\n",
       "1        CHEMBL14449  \\n     RDKit          2D\\n\\n  3  2  0  0  0  0...\n",
       "2        CHEMBL14688  \\n     RDKit          2D\\n\\n  2  1  0  0  0  0..."
      ]
     },
     "execution_count": 195,
     "metadata": {},
     "output_type": "execute_result"
    }
   ],
   "source": [
    "df = DataFrameMolfilesFromIdList([\"CHEMBL266160\", \"CHEMBL14449\", \"CHEMBL14688\"])\n",
    "df"
   ]
  },
  {
   "cell_type": "code",
   "execution_count": 197,
   "metadata": {},
   "outputs": [],
   "source": [
    "def SaveMolfilesToSDF(df: pd.DataFrame, file_name: str):\n",
    "    with open(file_name, 'w') as f:\n",
    "        for value in df.values:\n",
    "            molecule_chembl_id, molfile = value\n",
    "            f.write(f\"{molecule_chembl_id}{molfile}\\n\\n$$$$\\n\")"
   ]
  },
  {
   "cell_type": "code",
   "execution_count": 198,
   "metadata": {},
   "outputs": [],
   "source": [
    "SaveMolfilesToSDF(df, \"results/compounds/molfiles/molfiles.sdf\")"
   ]
  }
 ],
 "metadata": {
  "kernelspec": {
   "display_name": ".venv",
   "language": "python",
   "name": "python3"
  },
  "language_info": {
   "codemirror_mode": {
    "name": "ipython",
    "version": 3
   },
   "file_extension": ".py",
   "mimetype": "text/x-python",
   "name": "python",
   "nbconvert_exporter": "python",
   "pygments_lexer": "ipython3",
   "version": "3.12.6"
  }
 },
 "nbformat": 4,
 "nbformat_minor": 2
}
